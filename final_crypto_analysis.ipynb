{
  "cells": [
    {
      "cell_type": "markdown",
      "metadata": {
        "id": "h0qqVcMxTbuM"
      },
      "source": [
        "# Cryptocurrency Analysis with Python - MACD"
      ]
    },
    {
      "cell_type": "code",
      "source": [
        "!pip install stockstats"
      ],
      "metadata": {
        "colab": {
          "base_uri": "https://localhost:8080/"
        },
        "id": "txmogAo9Ty-4",
        "outputId": "4dc2e1d9-a5f1-4e59-8f05-55df0da3cd14"
      },
      "execution_count": 32,
      "outputs": [
        {
          "output_type": "stream",
          "name": "stdout",
          "text": [
            "Requirement already satisfied: stockstats in /usr/local/lib/python3.7/dist-packages (0.4.1)\n",
            "Requirement already satisfied: pandas>=0.24.2 in /usr/local/lib/python3.7/dist-packages (from stockstats) (1.3.5)\n",
            "Requirement already satisfied: python-dateutil>=2.7.3 in /usr/local/lib/python3.7/dist-packages (from pandas>=0.24.2->stockstats) (2.8.2)\n",
            "Requirement already satisfied: numpy>=1.17.3 in /usr/local/lib/python3.7/dist-packages (from pandas>=0.24.2->stockstats) (1.21.6)\n",
            "Requirement already satisfied: pytz>=2017.3 in /usr/local/lib/python3.7/dist-packages (from pandas>=0.24.2->stockstats) (2022.1)\n",
            "Requirement already satisfied: six>=1.5 in /usr/local/lib/python3.7/dist-packages (from python-dateutil>=2.7.3->pandas>=0.24.2->stockstats) (1.15.0)\n"
          ]
        }
      ]
    },
    {
      "cell_type": "markdown",
      "metadata": {
        "id": "FPM2buyRTbuO"
      },
      "source": [
        "## **Introduction** \n",
        "\n",
        "Cryptocurrencies are becoming mainstream so I've decided to spend the weekend learning about it. \n",
        "we have scraped together the \n",
        "[code]({{site.url}}/assets/notebooks/2017-12-10-cryptocurrency-analysis-with-python-part1.ipynb)\n",
        "to download daily Bitcoin prices and apply a simple trading strategy to it. \n",
        "\n",
        "Note that there already exists tools for performing this kind of analysis, eg. \n",
        "[tradeview](https://www.tradingview.com/), but this way enables more in-depth analysis.\n"
      ]
    },
    {
      "cell_type": "markdown",
      "metadata": {
        "id": "n_FMCXpVTbuQ"
      },
      "source": [
        "## Requirements\n",
        "\n",
        "- Python 3\n",
        "\n",
        "- [Jupyter Notebook](http://jupyter.org/)\n",
        "\n",
        "- [Pandas Data Analysis Library](https://pandas.pydata.org/) \n",
        "\n",
        "- [Bokeh interactive visualization library](https://bokeh.pydata.org/en/latest/)\n",
        "\n",
        "- [stock Statistics/Indicators Calculation Helper](https://github.com/jealous/stockstats)"
      ]
    },
    {
      "cell_type": "markdown",
      "metadata": {
        "id": "oOLD0uSpTbuR"
      },
      "source": [
        "## Getting cryptocurrency data\n",
        "\n",
        "We download daily Bitcoin data in USD on Bitstamp exchange. [Other exchanges](https://www.cryptocompare.com/api/#introduction) are also supported.  "
      ]
    },
    {
      "cell_type": "code",
      "execution_count": 33,
      "metadata": {
        "id": "8iDuHI2ZTbuS"
      },
      "outputs": [],
      "source": [
        "from_symbol = 'BTC'\n",
        "to_symbol = 'USD'\n",
        "exchange = 'Bitstamp'\n",
        "datetime_interval = 'day'"
      ]
    },
    {
      "cell_type": "markdown",
      "metadata": {
        "id": "ZFtpuzrZTbuT"
      },
      "source": [
        "The [cryptocompare api](https://www.cryptocompare.com/api/#introduction) returns following columns:\n",
        " - **open**, the price at which the period opened,\n",
        " - **high**, the highest price reached during the period,\n",
        " - **low**, the lowest price reached during the period,\n",
        " - **close**, the price at which the period closed,\n",
        " - **volumefrom**, the volume in the base currency that things are traded into,\n",
        " - **volumeto**, the volume in the currency that is being traded.\n",
        " \n",
        "We download the data and store it to a file."
      ]
    },
    {
      "cell_type": "code",
      "execution_count": 34,
      "metadata": {
        "colab": {
          "base_uri": "https://localhost:8080/"
        },
        "id": "QatXguTbTbuT",
        "outputId": "9587055f-00af-42f8-ff75-b3f7f473a3cb"
      },
      "outputs": [
        {
          "output_type": "stream",
          "name": "stdout",
          "text": [
            "Downloading day trading data for BTC USD from Bitstamp\n",
            "Filtering 0 empty datapoints\n",
            "Saving data to BTC_USD_Bitstamp_day_2022-05-22.csv\n"
          ]
        },
        {
          "output_type": "stream",
          "name": "stderr",
          "text": [
            "/usr/local/lib/python3.7/dist-packages/ipykernel_launcher.py:29: FutureWarning: pandas.io.json.json_normalize is deprecated, use pandas.json_normalize instead\n",
            "/usr/local/lib/python3.7/dist-packages/ipykernel_launcher.py:37: FutureWarning: Dropping of nuisance columns in DataFrame reductions (with 'numeric_only=None') is deprecated; in a future version this will raise TypeError.  Select only valid columns before calling the reduction.\n"
          ]
        }
      ],
      "source": [
        "import requests\n",
        "from datetime import datetime\n",
        "import pandas as pd\n",
        "\n",
        "\n",
        "\n",
        "def get_filename(from_symbol, to_symbol, exchange, datetime_interval, download_date):\n",
        "    return '%s_%s_%s_%s_%s.csv' % (from_symbol, to_symbol, exchange, datetime_interval, download_date)\n",
        "\n",
        "\n",
        "def download_data(from_symbol, to_symbol, exchange, datetime_interval):\n",
        "    supported_intervals = {'minute', 'hour', 'day'}\n",
        "    assert datetime_interval in supported_intervals,           'datetime_interval should be one of %s' % supported_intervals\n",
        "\n",
        "    print('Downloading %s trading data for %s %s from %s' %\n",
        "          (datetime_interval, from_symbol, to_symbol, exchange))\n",
        "    base_url = 'https://min-api.cryptocompare.com/data/histo'\n",
        "    url = '%s%s' % (base_url, datetime_interval)\n",
        "\n",
        "    params = {'fsym': from_symbol, 'tsym': to_symbol,\n",
        "              'limit': 2000, 'aggregate': 1,\n",
        "              'e': exchange}\n",
        "    request = requests.get(url, params=params)\n",
        "    data = request.json()\n",
        "    return data\n",
        "\n",
        "\n",
        "def convert_to_dataframe(data):\n",
        "    df = pd.io.json.json_normalize(data, ['Data'])\n",
        "    df['datetime'] = pd.to_datetime(df.time, unit='s')\n",
        "    df = df[['datetime', 'low', 'high', 'open',\n",
        "             'close', 'volumefrom', 'volumeto']]\n",
        "    return df\n",
        "\n",
        "\n",
        "def filter_empty_datapoints(df):\n",
        "    indices = df[df.sum(axis=1) == 0].index\n",
        "    print('Filtering %d empty datapoints' % indices.shape[0])\n",
        "    df = df.drop(indices)\n",
        "    return df\n",
        "\n",
        "\n",
        "data = download_data(from_symbol, to_symbol, exchange, datetime_interval)\n",
        "df = convert_to_dataframe(data)\n",
        "df = filter_empty_datapoints(df)\n",
        "\n",
        "current_datetime = datetime.now().date().isoformat()\n",
        "filename = get_filename(from_symbol, to_symbol, exchange, datetime_interval, current_datetime)\n",
        "print('Saving data to %s' % filename)\n",
        "df.to_csv(filename, index=False)"
      ]
    },
    {
      "cell_type": "markdown",
      "metadata": {
        "id": "pJ9XwtQ5TbuV"
      },
      "source": [
        "## Read the data\n",
        "\n",
        "We read the data from a file so we don't need to download it again."
      ]
    },
    {
      "cell_type": "code",
      "execution_count": 35,
      "metadata": {
        "colab": {
          "base_uri": "https://localhost:8080/"
        },
        "id": "2IwzCTiPTbuW",
        "outputId": "51d4b539-d682-4f9f-88f5-4d8886de6cee"
      },
      "outputs": [
        {
          "output_type": "stream",
          "name": "stdout",
          "text": [
            "Reading data from BTC_USD_Bitstamp_day_2022-05-22.csv\n",
            "(2001, 6)\n"
          ]
        }
      ],
      "source": [
        "\n",
        "def read_dataset(filename):\n",
        "    print('Reading data from %s' % filename)\n",
        "    df = pd.read_csv(filename)\n",
        "    df.datetime = pd.to_datetime(df.datetime) # change type from object to datetime\n",
        "    df = df.set_index('datetime') \n",
        "    df = df.sort_index() # sort by datetime\n",
        "    print(df.shape)\n",
        "    return df\n",
        "\n",
        "df = read_dataset(filename)"
      ]
    },
    {
      "cell_type": "markdown",
      "metadata": {
        "id": "hW62J_J0TbuX"
      },
      "source": [
        "##  Trading strategy\n",
        "\n",
        "A trading strategy is a set of objective rules defining the conditions that must be met for a trade entry and exit to occur. \n",
        "\n",
        "We are going to apply Moving Average Convergence Divergence (MACD) trading strategy, which is a popular indicator used in technical analysis. \n",
        "MACD calculates two moving averages of varying lengths to identify trend direction and duration.\n",
        "Then, it takes the difference in values between those two moving averages (MACD line) \n",
        "and an exponential moving average (signal line) of those moving averages.\n",
        "Tradeview has a great blog post about [MACD](https://www.tradingview.com/wiki/MACD_).\n",
        "\n",
        "As we can see in the example below:\n",
        "- exit trade (sell) when MACD line crosses below the MACD signal line,\n",
        "- enter trade (buy) when MACD line crosses above the MACD signal line. \n",
        "\n",
        "![]( http://www.onlinetradingconcepts.com/images/technicalanalysis/MACDbuysellaltNQ.gif \"MACD\")"
      ]
    },
    {
      "cell_type": "markdown",
      "metadata": {
        "id": "2mNFR3NYTbuX"
      },
      "source": [
        "## Calculate the trading strategy\n",
        "We use [stockstats](https://github.com/jealous/stockstats) package to calculate MACD."
      ]
    },
    {
      "cell_type": "code",
      "execution_count": 36,
      "metadata": {
        "id": "psHQ3DIwTbuX"
      },
      "outputs": [],
      "source": [
        "from stockstats import StockDataFrame\n",
        "df = StockDataFrame.retype(df)\n",
        "df['macd'] = df.get('macd') # calculate MACD"
      ]
    },
    {
      "cell_type": "markdown",
      "metadata": {
        "id": "gVxYR8KhTbuY"
      },
      "source": [
        "stockstats adds 5 columns to dataset:\n",
        "- **close_12_ema** is fast 12 days exponential moving average,\n",
        "- **close_26_ema** is slow 26 days exponential moving average,\n",
        "- **macd** is MACD line,\n",
        "- **macds** is signal line,\n",
        "- **macdh** is MACD histogram."
      ]
    },
    {
      "cell_type": "code",
      "execution_count": 37,
      "metadata": {
        "colab": {
          "base_uri": "https://localhost:8080/",
          "height": 237
        },
        "id": "qj7sd1a9TbuY",
        "outputId": "6692732e-f529-4a38-ba08-a8636649fc99"
      },
      "outputs": [
        {
          "output_type": "execute_result",
          "data": {
            "text/plain": [
              "               low    high    open   close  volumefrom    volumeto      macd  \\\n",
              "datetime                                                                       \n",
              "2016-11-29  721.00  733.29  730.99  730.99     5193.25  3788691.62  0.000000   \n",
              "2016-11-30  727.00  744.49  730.72  742.06     6208.19  4577304.37  0.248365   \n",
              "2016-12-01  740.18  754.98  742.06  751.60     6097.42  4569793.09  0.612302   \n",
              "2016-12-02  750.77  778.07  751.55  769.99     8062.00  6181050.26  1.426785   \n",
              "2016-12-03  752.41  770.99  770.91  762.79     2763.36  2107293.54  1.552821   \n",
              "\n",
              "               macds     macdh  \n",
              "datetime                        \n",
              "2016-11-29  0.000000  0.000000  \n",
              "2016-11-30  0.137981  0.110385  \n",
              "2016-12-01  0.332375  0.279927  \n",
              "2016-12-02  0.703110  0.723675  \n",
              "2016-12-03  0.955880  0.596941  "
            ],
            "text/html": [
              "\n",
              "  <div id=\"df-f3c944c5-fea7-4707-a540-e64d2886b859\">\n",
              "    <div class=\"colab-df-container\">\n",
              "      <div>\n",
              "<style scoped>\n",
              "    .dataframe tbody tr th:only-of-type {\n",
              "        vertical-align: middle;\n",
              "    }\n",
              "\n",
              "    .dataframe tbody tr th {\n",
              "        vertical-align: top;\n",
              "    }\n",
              "\n",
              "    .dataframe thead th {\n",
              "        text-align: right;\n",
              "    }\n",
              "</style>\n",
              "<table border=\"1\" class=\"dataframe\">\n",
              "  <thead>\n",
              "    <tr style=\"text-align: right;\">\n",
              "      <th></th>\n",
              "      <th>low</th>\n",
              "      <th>high</th>\n",
              "      <th>open</th>\n",
              "      <th>close</th>\n",
              "      <th>volumefrom</th>\n",
              "      <th>volumeto</th>\n",
              "      <th>macd</th>\n",
              "      <th>macds</th>\n",
              "      <th>macdh</th>\n",
              "    </tr>\n",
              "    <tr>\n",
              "      <th>datetime</th>\n",
              "      <th></th>\n",
              "      <th></th>\n",
              "      <th></th>\n",
              "      <th></th>\n",
              "      <th></th>\n",
              "      <th></th>\n",
              "      <th></th>\n",
              "      <th></th>\n",
              "      <th></th>\n",
              "    </tr>\n",
              "  </thead>\n",
              "  <tbody>\n",
              "    <tr>\n",
              "      <th>2016-11-29</th>\n",
              "      <td>721.00</td>\n",
              "      <td>733.29</td>\n",
              "      <td>730.99</td>\n",
              "      <td>730.99</td>\n",
              "      <td>5193.25</td>\n",
              "      <td>3788691.62</td>\n",
              "      <td>0.000000</td>\n",
              "      <td>0.000000</td>\n",
              "      <td>0.000000</td>\n",
              "    </tr>\n",
              "    <tr>\n",
              "      <th>2016-11-30</th>\n",
              "      <td>727.00</td>\n",
              "      <td>744.49</td>\n",
              "      <td>730.72</td>\n",
              "      <td>742.06</td>\n",
              "      <td>6208.19</td>\n",
              "      <td>4577304.37</td>\n",
              "      <td>0.248365</td>\n",
              "      <td>0.137981</td>\n",
              "      <td>0.110385</td>\n",
              "    </tr>\n",
              "    <tr>\n",
              "      <th>2016-12-01</th>\n",
              "      <td>740.18</td>\n",
              "      <td>754.98</td>\n",
              "      <td>742.06</td>\n",
              "      <td>751.60</td>\n",
              "      <td>6097.42</td>\n",
              "      <td>4569793.09</td>\n",
              "      <td>0.612302</td>\n",
              "      <td>0.332375</td>\n",
              "      <td>0.279927</td>\n",
              "    </tr>\n",
              "    <tr>\n",
              "      <th>2016-12-02</th>\n",
              "      <td>750.77</td>\n",
              "      <td>778.07</td>\n",
              "      <td>751.55</td>\n",
              "      <td>769.99</td>\n",
              "      <td>8062.00</td>\n",
              "      <td>6181050.26</td>\n",
              "      <td>1.426785</td>\n",
              "      <td>0.703110</td>\n",
              "      <td>0.723675</td>\n",
              "    </tr>\n",
              "    <tr>\n",
              "      <th>2016-12-03</th>\n",
              "      <td>752.41</td>\n",
              "      <td>770.99</td>\n",
              "      <td>770.91</td>\n",
              "      <td>762.79</td>\n",
              "      <td>2763.36</td>\n",
              "      <td>2107293.54</td>\n",
              "      <td>1.552821</td>\n",
              "      <td>0.955880</td>\n",
              "      <td>0.596941</td>\n",
              "    </tr>\n",
              "  </tbody>\n",
              "</table>\n",
              "</div>\n",
              "      <button class=\"colab-df-convert\" onclick=\"convertToInteractive('df-f3c944c5-fea7-4707-a540-e64d2886b859')\"\n",
              "              title=\"Convert this dataframe to an interactive table.\"\n",
              "              style=\"display:none;\">\n",
              "        \n",
              "  <svg xmlns=\"http://www.w3.org/2000/svg\" height=\"24px\"viewBox=\"0 0 24 24\"\n",
              "       width=\"24px\">\n",
              "    <path d=\"M0 0h24v24H0V0z\" fill=\"none\"/>\n",
              "    <path d=\"M18.56 5.44l.94 2.06.94-2.06 2.06-.94-2.06-.94-.94-2.06-.94 2.06-2.06.94zm-11 1L8.5 8.5l.94-2.06 2.06-.94-2.06-.94L8.5 2.5l-.94 2.06-2.06.94zm10 10l.94 2.06.94-2.06 2.06-.94-2.06-.94-.94-2.06-.94 2.06-2.06.94z\"/><path d=\"M17.41 7.96l-1.37-1.37c-.4-.4-.92-.59-1.43-.59-.52 0-1.04.2-1.43.59L10.3 9.45l-7.72 7.72c-.78.78-.78 2.05 0 2.83L4 21.41c.39.39.9.59 1.41.59.51 0 1.02-.2 1.41-.59l7.78-7.78 2.81-2.81c.8-.78.8-2.07 0-2.86zM5.41 20L4 18.59l7.72-7.72 1.47 1.35L5.41 20z\"/>\n",
              "  </svg>\n",
              "      </button>\n",
              "      \n",
              "  <style>\n",
              "    .colab-df-container {\n",
              "      display:flex;\n",
              "      flex-wrap:wrap;\n",
              "      gap: 12px;\n",
              "    }\n",
              "\n",
              "    .colab-df-convert {\n",
              "      background-color: #E8F0FE;\n",
              "      border: none;\n",
              "      border-radius: 50%;\n",
              "      cursor: pointer;\n",
              "      display: none;\n",
              "      fill: #1967D2;\n",
              "      height: 32px;\n",
              "      padding: 0 0 0 0;\n",
              "      width: 32px;\n",
              "    }\n",
              "\n",
              "    .colab-df-convert:hover {\n",
              "      background-color: #E2EBFA;\n",
              "      box-shadow: 0px 1px 2px rgba(60, 64, 67, 0.3), 0px 1px 3px 1px rgba(60, 64, 67, 0.15);\n",
              "      fill: #174EA6;\n",
              "    }\n",
              "\n",
              "    [theme=dark] .colab-df-convert {\n",
              "      background-color: #3B4455;\n",
              "      fill: #D2E3FC;\n",
              "    }\n",
              "\n",
              "    [theme=dark] .colab-df-convert:hover {\n",
              "      background-color: #434B5C;\n",
              "      box-shadow: 0px 1px 3px 1px rgba(0, 0, 0, 0.15);\n",
              "      filter: drop-shadow(0px 1px 2px rgba(0, 0, 0, 0.3));\n",
              "      fill: #FFFFFF;\n",
              "    }\n",
              "  </style>\n",
              "\n",
              "      <script>\n",
              "        const buttonEl =\n",
              "          document.querySelector('#df-f3c944c5-fea7-4707-a540-e64d2886b859 button.colab-df-convert');\n",
              "        buttonEl.style.display =\n",
              "          google.colab.kernel.accessAllowed ? 'block' : 'none';\n",
              "\n",
              "        async function convertToInteractive(key) {\n",
              "          const element = document.querySelector('#df-f3c944c5-fea7-4707-a540-e64d2886b859');\n",
              "          const dataTable =\n",
              "            await google.colab.kernel.invokeFunction('convertToInteractive',\n",
              "                                                     [key], {});\n",
              "          if (!dataTable) return;\n",
              "\n",
              "          const docLinkHtml = 'Like what you see? Visit the ' +\n",
              "            '<a target=\"_blank\" href=https://colab.research.google.com/notebooks/data_table.ipynb>data table notebook</a>'\n",
              "            + ' to learn more about interactive tables.';\n",
              "          element.innerHTML = '';\n",
              "          dataTable['output_type'] = 'display_data';\n",
              "          await google.colab.output.renderOutput(dataTable, element);\n",
              "          const docLink = document.createElement('div');\n",
              "          docLink.innerHTML = docLinkHtml;\n",
              "          element.appendChild(docLink);\n",
              "        }\n",
              "      </script>\n",
              "    </div>\n",
              "  </div>\n",
              "  "
            ]
          },
          "metadata": {},
          "execution_count": 37
        }
      ],
      "source": [
        "df.head()"
      ]
    },
    {
      "cell_type": "markdown",
      "metadata": {
        "id": "Sg_wTj-7TbuY"
      },
      "source": [
        "## Visualizing trading strategy \n",
        "\n",
        "We use bokeh interactive charts to plot the data.\n",
        "\n",
        "The line graph shows daily closing prices with candlesticks (zoom in).\n",
        "A candlestick displays the high, low, opening  and closing prices \n",
        "for a specific period. Tradeview has a great blogpost about \n",
        "[candlestick graph](https://www.investopedia.com/terms/c/candlestick.asp).\n",
        "\n",
        "Below the line graph we plot the MACD strategy with MACD line (blue), signal line (orange) and histogram (purple)."
      ]
    },
    {
      "cell_type": "code",
      "execution_count": 38,
      "metadata": {
        "scrolled": false,
        "colab": {
          "base_uri": "https://localhost:8080/",
          "height": 617
        },
        "id": "RH2oPWeSTbuZ",
        "outputId": "d6dc2049-08a7-44c5-a7fb-a5c6b4ff62aa"
      },
      "outputs": [
        {
          "output_type": "display_data",
          "data": {
            "application/javascript": [
              "\n",
              "(function(root) {\n",
              "  function now() {\n",
              "    return new Date();\n",
              "  }\n",
              "\n",
              "  var force = true;\n",
              "\n",
              "  if (typeof root._bokeh_onload_callbacks === \"undefined\" || force === true) {\n",
              "    root._bokeh_onload_callbacks = [];\n",
              "    root._bokeh_is_loading = undefined;\n",
              "  }\n",
              "\n",
              "  var JS_MIME_TYPE = 'application/javascript';\n",
              "  var HTML_MIME_TYPE = 'text/html';\n",
              "  var EXEC_MIME_TYPE = 'application/vnd.bokehjs_exec.v0+json';\n",
              "  var CLASS_NAME = 'output_bokeh rendered_html';\n",
              "\n",
              "  /**\n",
              "   * Render data to the DOM node\n",
              "   */\n",
              "  function render(props, node) {\n",
              "    var script = document.createElement(\"script\");\n",
              "    node.appendChild(script);\n",
              "  }\n",
              "\n",
              "  /**\n",
              "   * Handle when an output is cleared or removed\n",
              "   */\n",
              "  function handleClearOutput(event, handle) {\n",
              "    var cell = handle.cell;\n",
              "\n",
              "    var id = cell.output_area._bokeh_element_id;\n",
              "    var server_id = cell.output_area._bokeh_server_id;\n",
              "    // Clean up Bokeh references\n",
              "    if (id != null && id in Bokeh.index) {\n",
              "      Bokeh.index[id].model.document.clear();\n",
              "      delete Bokeh.index[id];\n",
              "    }\n",
              "\n",
              "    if (server_id !== undefined) {\n",
              "      // Clean up Bokeh references\n",
              "      var cmd = \"from bokeh.io.state import curstate; print(curstate().uuid_to_server['\" + server_id + \"'].get_sessions()[0].document.roots[0]._id)\";\n",
              "      cell.notebook.kernel.execute(cmd, {\n",
              "        iopub: {\n",
              "          output: function(msg) {\n",
              "            var id = msg.content.text.trim();\n",
              "            if (id in Bokeh.index) {\n",
              "              Bokeh.index[id].model.document.clear();\n",
              "              delete Bokeh.index[id];\n",
              "            }\n",
              "          }\n",
              "        }\n",
              "      });\n",
              "      // Destroy server and session\n",
              "      var cmd = \"import bokeh.io.notebook as ion; ion.destroy_server('\" + server_id + \"')\";\n",
              "      cell.notebook.kernel.execute(cmd);\n",
              "    }\n",
              "  }\n",
              "\n",
              "  /**\n",
              "   * Handle when a new output is added\n",
              "   */\n",
              "  function handleAddOutput(event, handle) {\n",
              "    var output_area = handle.output_area;\n",
              "    var output = handle.output;\n",
              "\n",
              "    // limit handleAddOutput to display_data with EXEC_MIME_TYPE content only\n",
              "    if ((output.output_type != \"display_data\") || (!Object.prototype.hasOwnProperty.call(output.data, EXEC_MIME_TYPE))) {\n",
              "      return\n",
              "    }\n",
              "\n",
              "    var toinsert = output_area.element.find(\".\" + CLASS_NAME.split(' ')[0]);\n",
              "\n",
              "    if (output.metadata[EXEC_MIME_TYPE][\"id\"] !== undefined) {\n",
              "      toinsert[toinsert.length - 1].firstChild.textContent = output.data[JS_MIME_TYPE];\n",
              "      // store reference to embed id on output_area\n",
              "      output_area._bokeh_element_id = output.metadata[EXEC_MIME_TYPE][\"id\"];\n",
              "    }\n",
              "    if (output.metadata[EXEC_MIME_TYPE][\"server_id\"] !== undefined) {\n",
              "      var bk_div = document.createElement(\"div\");\n",
              "      bk_div.innerHTML = output.data[HTML_MIME_TYPE];\n",
              "      var script_attrs = bk_div.children[0].attributes;\n",
              "      for (var i = 0; i < script_attrs.length; i++) {\n",
              "        toinsert[toinsert.length - 1].firstChild.setAttribute(script_attrs[i].name, script_attrs[i].value);\n",
              "        toinsert[toinsert.length - 1].firstChild.textContent = bk_div.children[0].textContent\n",
              "      }\n",
              "      // store reference to server id on output_area\n",
              "      output_area._bokeh_server_id = output.metadata[EXEC_MIME_TYPE][\"server_id\"];\n",
              "    }\n",
              "  }\n",
              "\n",
              "  function register_renderer(events, OutputArea) {\n",
              "\n",
              "    function append_mime(data, metadata, element) {\n",
              "      // create a DOM node to render to\n",
              "      var toinsert = this.create_output_subarea(\n",
              "        metadata,\n",
              "        CLASS_NAME,\n",
              "        EXEC_MIME_TYPE\n",
              "      );\n",
              "      this.keyboard_manager.register_events(toinsert);\n",
              "      // Render to node\n",
              "      var props = {data: data, metadata: metadata[EXEC_MIME_TYPE]};\n",
              "      render(props, toinsert[toinsert.length - 1]);\n",
              "      element.append(toinsert);\n",
              "      return toinsert\n",
              "    }\n",
              "\n",
              "    /* Handle when an output is cleared or removed */\n",
              "    events.on('clear_output.CodeCell', handleClearOutput);\n",
              "    events.on('delete.Cell', handleClearOutput);\n",
              "\n",
              "    /* Handle when a new output is added */\n",
              "    events.on('output_added.OutputArea', handleAddOutput);\n",
              "\n",
              "    /**\n",
              "     * Register the mime type and append_mime function with output_area\n",
              "     */\n",
              "    OutputArea.prototype.register_mime_type(EXEC_MIME_TYPE, append_mime, {\n",
              "      /* Is output safe? */\n",
              "      safe: true,\n",
              "      /* Index of renderer in `output_area.display_order` */\n",
              "      index: 0\n",
              "    });\n",
              "  }\n",
              "\n",
              "  // register the mime type if in Jupyter Notebook environment and previously unregistered\n",
              "  if (root.Jupyter !== undefined) {\n",
              "    var events = require('base/js/events');\n",
              "    var OutputArea = require('notebook/js/outputarea').OutputArea;\n",
              "\n",
              "    if (OutputArea.prototype.mime_types().indexOf(EXEC_MIME_TYPE) == -1) {\n",
              "      register_renderer(events, OutputArea);\n",
              "    }\n",
              "  }\n",
              "\n",
              "  \n",
              "  if (typeof (root._bokeh_timeout) === \"undefined\" || force === true) {\n",
              "    root._bokeh_timeout = Date.now() + 5000;\n",
              "    root._bokeh_failed_load = false;\n",
              "  }\n",
              "\n",
              "  var NB_LOAD_WARNING = {'data': {'text/html':\n",
              "     \"<div style='background-color: #fdd'>\\n\"+\n",
              "     \"<p>\\n\"+\n",
              "     \"BokehJS does not appear to have successfully loaded. If loading BokehJS from CDN, this \\n\"+\n",
              "     \"may be due to a slow or bad network connection. Possible fixes:\\n\"+\n",
              "     \"</p>\\n\"+\n",
              "     \"<ul>\\n\"+\n",
              "     \"<li>re-rerun `output_notebook()` to attempt to load from CDN again, or</li>\\n\"+\n",
              "     \"<li>use INLINE resources instead, as so:</li>\\n\"+\n",
              "     \"</ul>\\n\"+\n",
              "     \"<code>\\n\"+\n",
              "     \"from bokeh.resources import INLINE\\n\"+\n",
              "     \"output_notebook(resources=INLINE)\\n\"+\n",
              "     \"</code>\\n\"+\n",
              "     \"</div>\"}};\n",
              "\n",
              "  function display_loaded() {\n",
              "    var el = document.getElementById(null);\n",
              "    if (el != null) {\n",
              "      el.textContent = \"BokehJS is loading...\";\n",
              "    }\n",
              "    if (root.Bokeh !== undefined) {\n",
              "      if (el != null) {\n",
              "        el.textContent = \"BokehJS \" + root.Bokeh.version + \" successfully loaded.\";\n",
              "      }\n",
              "    } else if (Date.now() < root._bokeh_timeout) {\n",
              "      setTimeout(display_loaded, 100)\n",
              "    }\n",
              "  }\n",
              "\n",
              "\n",
              "  function run_callbacks() {\n",
              "    try {\n",
              "      root._bokeh_onload_callbacks.forEach(function(callback) {\n",
              "        if (callback != null)\n",
              "          callback();\n",
              "      });\n",
              "    } finally {\n",
              "      delete root._bokeh_onload_callbacks\n",
              "    }\n",
              "    console.debug(\"Bokeh: all callbacks have finished\");\n",
              "  }\n",
              "\n",
              "  function load_libs(css_urls, js_urls, callback) {\n",
              "    if (css_urls == null) css_urls = [];\n",
              "    if (js_urls == null) js_urls = [];\n",
              "\n",
              "    root._bokeh_onload_callbacks.push(callback);\n",
              "    if (root._bokeh_is_loading > 0) {\n",
              "      console.debug(\"Bokeh: BokehJS is being loaded, scheduling callback at\", now());\n",
              "      return null;\n",
              "    }\n",
              "    if (js_urls == null || js_urls.length === 0) {\n",
              "      run_callbacks();\n",
              "      return null;\n",
              "    }\n",
              "    console.debug(\"Bokeh: BokehJS not loaded, scheduling load and callback at\", now());\n",
              "    root._bokeh_is_loading = css_urls.length + js_urls.length;\n",
              "\n",
              "    function on_load() {\n",
              "      root._bokeh_is_loading--;\n",
              "      if (root._bokeh_is_loading === 0) {\n",
              "        console.debug(\"Bokeh: all BokehJS libraries/stylesheets loaded\");\n",
              "        run_callbacks()\n",
              "      }\n",
              "    }\n",
              "\n",
              "    function on_error(url) {\n",
              "      console.error(\"failed to load \" + url);\n",
              "    }\n",
              "\n",
              "    for (let i = 0; i < css_urls.length; i++) {\n",
              "      const url = css_urls[i];\n",
              "      const element = document.createElement(\"link\");\n",
              "      element.onload = on_load;\n",
              "      element.onerror = on_error.bind(null, url);\n",
              "      element.rel = \"stylesheet\";\n",
              "      element.type = \"text/css\";\n",
              "      element.href = url;\n",
              "      console.debug(\"Bokeh: injecting link tag for BokehJS stylesheet: \", url);\n",
              "      document.body.appendChild(element);\n",
              "    }\n",
              "\n",
              "    const hashes = {\"https://cdn.bokeh.org/bokeh/release/bokeh-2.3.3.min.js\": \"dM3QQsP+wXdHg42wTqW85BjZQdLNNIXqlPw/BgKoExPmTG7ZLML4EGqLMfqHT6ON\", \"https://cdn.bokeh.org/bokeh/release/bokeh-tables-2.3.3.min.js\": \"8x57I4YuIfu8XyZfFo0XVr2WAT8EK4rh/uDe3wF7YuW2FNUSNEpJbsPaB1nJ2fz2\", \"https://cdn.bokeh.org/bokeh/release/bokeh-widgets-2.3.3.min.js\": \"3QTqdz9LyAm2i0sG5XTePsHec3UHWwVsrOL68SYRoAXsafvfAyqtQ+h440+qIBhS\"};\n",
              "\n",
              "    for (let i = 0; i < js_urls.length; i++) {\n",
              "      const url = js_urls[i];\n",
              "      const element = document.createElement('script');\n",
              "      element.onload = on_load;\n",
              "      element.onerror = on_error.bind(null, url);\n",
              "      element.async = false;\n",
              "      element.src = url;\n",
              "      if (url in hashes) {\n",
              "        element.crossOrigin = \"anonymous\";\n",
              "        element.integrity = \"sha384-\" + hashes[url];\n",
              "      }\n",
              "      console.debug(\"Bokeh: injecting script tag for BokehJS library: \", url);\n",
              "      document.head.appendChild(element);\n",
              "    }\n",
              "  };\n",
              "\n",
              "  function inject_raw_css(css) {\n",
              "    const element = document.createElement(\"style\");\n",
              "    element.appendChild(document.createTextNode(css));\n",
              "    document.body.appendChild(element);\n",
              "  }\n",
              "\n",
              "  \n",
              "  var js_urls = [\"https://cdn.bokeh.org/bokeh/release/bokeh-2.3.3.min.js\", \"https://cdn.bokeh.org/bokeh/release/bokeh-widgets-2.3.3.min.js\", \"https://cdn.bokeh.org/bokeh/release/bokeh-tables-2.3.3.min.js\"];\n",
              "  var css_urls = [];\n",
              "  \n",
              "\n",
              "  var inline_js = [\n",
              "    function(Bokeh) {\n",
              "      Bokeh.set_log_level(\"info\");\n",
              "    },\n",
              "    function(Bokeh) {\n",
              "    \n",
              "    \n",
              "    }\n",
              "  ];\n",
              "\n",
              "  function run_inline_js() {\n",
              "    \n",
              "    if (root.Bokeh !== undefined || force === true) {\n",
              "      \n",
              "    for (var i = 0; i < inline_js.length; i++) {\n",
              "      inline_js[i].call(root, root.Bokeh);\n",
              "    }\n",
              "    } else if (Date.now() < root._bokeh_timeout) {\n",
              "      setTimeout(run_inline_js, 100);\n",
              "    } else if (!root._bokeh_failed_load) {\n",
              "      console.log(\"Bokeh: BokehJS failed to load within specified timeout.\");\n",
              "      root._bokeh_failed_load = true;\n",
              "    } else if (force !== true) {\n",
              "      var cell = $(document.getElementById(null)).parents('.cell').data().cell;\n",
              "      cell.output_area.append_execute_result(NB_LOAD_WARNING)\n",
              "    }\n",
              "\n",
              "  }\n",
              "\n",
              "  if (root._bokeh_is_loading === 0) {\n",
              "    console.debug(\"Bokeh: BokehJS loaded, going straight to plotting\");\n",
              "    run_inline_js();\n",
              "  } else {\n",
              "    load_libs(css_urls, js_urls, function() {\n",
              "      console.debug(\"Bokeh: BokehJS plotting callback run at\", now());\n",
              "      run_inline_js();\n",
              "    });\n",
              "  }\n",
              "}(window));"
            ],
            "application/vnd.bokehjs_load.v0+json": "\n(function(root) {\n  function now() {\n    return new Date();\n  }\n\n  var force = true;\n\n  if (typeof root._bokeh_onload_callbacks === \"undefined\" || force === true) {\n    root._bokeh_onload_callbacks = [];\n    root._bokeh_is_loading = undefined;\n  }\n\n  \n\n  \n  if (typeof (root._bokeh_timeout) === \"undefined\" || force === true) {\n    root._bokeh_timeout = Date.now() + 5000;\n    root._bokeh_failed_load = false;\n  }\n\n  var NB_LOAD_WARNING = {'data': {'text/html':\n     \"<div style='background-color: #fdd'>\\n\"+\n     \"<p>\\n\"+\n     \"BokehJS does not appear to have successfully loaded. If loading BokehJS from CDN, this \\n\"+\n     \"may be due to a slow or bad network connection. Possible fixes:\\n\"+\n     \"</p>\\n\"+\n     \"<ul>\\n\"+\n     \"<li>re-rerun `output_notebook()` to attempt to load from CDN again, or</li>\\n\"+\n     \"<li>use INLINE resources instead, as so:</li>\\n\"+\n     \"</ul>\\n\"+\n     \"<code>\\n\"+\n     \"from bokeh.resources import INLINE\\n\"+\n     \"output_notebook(resources=INLINE)\\n\"+\n     \"</code>\\n\"+\n     \"</div>\"}};\n\n  function display_loaded() {\n    var el = document.getElementById(null);\n    if (el != null) {\n      el.textContent = \"BokehJS is loading...\";\n    }\n    if (root.Bokeh !== undefined) {\n      if (el != null) {\n        el.textContent = \"BokehJS \" + root.Bokeh.version + \" successfully loaded.\";\n      }\n    } else if (Date.now() < root._bokeh_timeout) {\n      setTimeout(display_loaded, 100)\n    }\n  }\n\n\n  function run_callbacks() {\n    try {\n      root._bokeh_onload_callbacks.forEach(function(callback) {\n        if (callback != null)\n          callback();\n      });\n    } finally {\n      delete root._bokeh_onload_callbacks\n    }\n    console.debug(\"Bokeh: all callbacks have finished\");\n  }\n\n  function load_libs(css_urls, js_urls, callback) {\n    if (css_urls == null) css_urls = [];\n    if (js_urls == null) js_urls = [];\n\n    root._bokeh_onload_callbacks.push(callback);\n    if (root._bokeh_is_loading > 0) {\n      console.debug(\"Bokeh: BokehJS is being loaded, scheduling callback at\", now());\n      return null;\n    }\n    if (js_urls == null || js_urls.length === 0) {\n      run_callbacks();\n      return null;\n    }\n    console.debug(\"Bokeh: BokehJS not loaded, scheduling load and callback at\", now());\n    root._bokeh_is_loading = css_urls.length + js_urls.length;\n\n    function on_load() {\n      root._bokeh_is_loading--;\n      if (root._bokeh_is_loading === 0) {\n        console.debug(\"Bokeh: all BokehJS libraries/stylesheets loaded\");\n        run_callbacks()\n      }\n    }\n\n    function on_error(url) {\n      console.error(\"failed to load \" + url);\n    }\n\n    for (let i = 0; i < css_urls.length; i++) {\n      const url = css_urls[i];\n      const element = document.createElement(\"link\");\n      element.onload = on_load;\n      element.onerror = on_error.bind(null, url);\n      element.rel = \"stylesheet\";\n      element.type = \"text/css\";\n      element.href = url;\n      console.debug(\"Bokeh: injecting link tag for BokehJS stylesheet: \", url);\n      document.body.appendChild(element);\n    }\n\n    const hashes = {\"https://cdn.bokeh.org/bokeh/release/bokeh-2.3.3.min.js\": \"dM3QQsP+wXdHg42wTqW85BjZQdLNNIXqlPw/BgKoExPmTG7ZLML4EGqLMfqHT6ON\", \"https://cdn.bokeh.org/bokeh/release/bokeh-tables-2.3.3.min.js\": \"8x57I4YuIfu8XyZfFo0XVr2WAT8EK4rh/uDe3wF7YuW2FNUSNEpJbsPaB1nJ2fz2\", \"https://cdn.bokeh.org/bokeh/release/bokeh-widgets-2.3.3.min.js\": \"3QTqdz9LyAm2i0sG5XTePsHec3UHWwVsrOL68SYRoAXsafvfAyqtQ+h440+qIBhS\"};\n\n    for (let i = 0; i < js_urls.length; i++) {\n      const url = js_urls[i];\n      const element = document.createElement('script');\n      element.onload = on_load;\n      element.onerror = on_error.bind(null, url);\n      element.async = false;\n      element.src = url;\n      if (url in hashes) {\n        element.crossOrigin = \"anonymous\";\n        element.integrity = \"sha384-\" + hashes[url];\n      }\n      console.debug(\"Bokeh: injecting script tag for BokehJS library: \", url);\n      document.head.appendChild(element);\n    }\n  };\n\n  function inject_raw_css(css) {\n    const element = document.createElement(\"style\");\n    element.appendChild(document.createTextNode(css));\n    document.body.appendChild(element);\n  }\n\n  \n  var js_urls = [\"https://cdn.bokeh.org/bokeh/release/bokeh-2.3.3.min.js\", \"https://cdn.bokeh.org/bokeh/release/bokeh-widgets-2.3.3.min.js\", \"https://cdn.bokeh.org/bokeh/release/bokeh-tables-2.3.3.min.js\"];\n  var css_urls = [];\n  \n\n  var inline_js = [\n    function(Bokeh) {\n      Bokeh.set_log_level(\"info\");\n    },\n    function(Bokeh) {\n    \n    \n    }\n  ];\n\n  function run_inline_js() {\n    \n    if (root.Bokeh !== undefined || force === true) {\n      \n    for (var i = 0; i < inline_js.length; i++) {\n      inline_js[i].call(root, root.Bokeh);\n    }\n    } else if (Date.now() < root._bokeh_timeout) {\n      setTimeout(run_inline_js, 100);\n    } else if (!root._bokeh_failed_load) {\n      console.log(\"Bokeh: BokehJS failed to load within specified timeout.\");\n      root._bokeh_failed_load = true;\n    } else if (force !== true) {\n      var cell = $(document.getElementById(null)).parents('.cell').data().cell;\n      cell.output_area.append_execute_result(NB_LOAD_WARNING)\n    }\n\n  }\n\n  if (root._bokeh_is_loading === 0) {\n    console.debug(\"Bokeh: BokehJS loaded, going straight to plotting\");\n    run_inline_js();\n  } else {\n    load_libs(css_urls, js_urls, function() {\n      console.debug(\"Bokeh: BokehJS plotting callback run at\", now());\n      run_inline_js();\n    });\n  }\n}(window));"
          },
          "metadata": {}
        },
        {
          "output_type": "display_data",
          "data": {
            "text/html": [
              "\n",
              "\n",
              "\n",
              "\n",
              "\n",
              "\n",
              "  <div class=\"bk-root\" id=\"356734f0-7b40-4b75-84c5-4bc107da2003\" data-root-id=\"1616\"></div>\n"
            ]
          },
          "metadata": {}
        },
        {
          "output_type": "display_data",
          "data": {
            "application/javascript": [
              "(function(root) {\n",
              "  function embed_document(root) {\n",
              "    \n",
              "  var docs_json = {\"c6471fd7-9ea9-44e3-92ff-bed7173869b2\":{\"defs\":[],\"roots\":{\"references\":[{\"attributes\":{\"below\":[{\"id\":\"1627\"}],\"center\":[{\"id\":\"1630\"},{\"id\":\"1634\"}],\"left\":[{\"id\":\"1631\"}],\"renderers\":[{\"id\":\"1652\"},{\"id\":\"1657\"},{\"id\":\"1662\"},{\"id\":\"1667\"},{\"id\":\"1672\"},{\"id\":\"1677\"},{\"id\":\"1682\"},{\"id\":\"1687\"}],\"title\":{\"id\":\"1617\"},\"toolbar\":{\"id\":\"1642\"},\"width\":1000,\"x_range\":{\"id\":\"1619\"},\"x_scale\":{\"id\":\"1623\"},\"y_range\":{\"id\":\"1621\"},\"y_scale\":{\"id\":\"1625\"}},\"id\":\"1616\",\"subtype\":\"Figure\",\"type\":\"Plot\"},{\"attributes\":{},\"id\":\"1623\",\"type\":\"LinearScale\"},{\"attributes\":{\"data\":{\"bottom\":{\"__ndarray__\":\"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\",\"dtype\":\"float64\",\"order\":\"little\",\"shape\":[229]},\"top\":{\"__ndarray__\":\"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\",\"dtype\":\"float64\",\"order\":\"little\",\"shape\":[229]},\"x\":{\"__ndarray__\":\"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\",\"dtype\":\"float64\",\"order\":\"little\",\"shape\":[229]}},\"selected\":{\"id\":\"1745\"},\"selection_policy\":{\"id\":\"1746\"}},\"id\":\"1679\",\"type\":\"ColumnDataSource\"},{\"attributes\":{},\"id\":\"1746\",\"type\":\"UnionRenderers\"},{\"attributes\":{\"axis\":{\"id\":\"1627\"},\"ticker\":null},\"id\":\"1630\",\"type\":\"Grid\"},{\"attributes\":{\"data_source\":{\"id\":\"1669\"},\"glyph\":{\"id\":\"1670\"},\"hover_glyph\":null,\"muted_glyph\":null,\"nonselection_glyph\":{\"id\":\"1671\"},\"view\":{\"id\":\"1673\"}},\"id\":\"1672\",\"type\":\"GlyphRenderer\"},{\"attributes\":{},\"id\":\"1747\",\"type\":\"Selection\"},{\"attributes\":{},\"id\":\"1621\",\"type\":\"DataRange1d\"},{\"attributes\":{\"source\":{\"id\":\"1679\"}},\"id\":\"1683\",\"type\":\"CDSView\"},{\"attributes\":{},\"id\":\"1748\",\"type\":\"UnionRenderers\"},{\"attributes\":{\"mantissas\":[1,2,5],\"max_interval\":500.0,\"num_minor_ticks\":0},\"id\":\"1749\",\"type\":\"AdaptiveTicker\"},{\"attributes\":{\"data_source\":{\"id\":\"1679\"},\"glyph\":{\"id\":\"1680\"},\"hover_glyph\":null,\"muted_glyph\":null,\"nonselection_glyph\":{\"id\":\"1681\"},\"view\":{\"id\":\"1683\"}},\"id\":\"1682\",\"type\":\"GlyphRenderer\"},{\"attributes\":{\"base\":24,\"mantissas\":[1,2,4,6,8,12],\"max_interval\":43200000.0,\"min_interval\":3600000.0,\"num_minor_ticks\":0},\"id\":\"1751\",\"type\":\"AdaptiveTicker\"},{\"attributes\":{\"base\":60,\"mantissas\":[1,2,5,10,15,20,30],\"max_interval\":1800000.0,\"min_interval\":1000.0,\"num_minor_ticks\":0},\"id\":\"1750\",\"type\":\"AdaptiveTicker\"},{\"attributes\":{\"data\":{\"x0\":{\"__ndarray__\":\"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\",\"dtype\":\"float64\",\"order\":\"little\",\"shape\":[377]},\"x1\":{\"__ndarray__\":\"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\",\"dtype\":\"float64\",\"order\":\"little\",\"shape\":[377]},\"y0\":{\"__ndarray__\":\"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\",\"dtype\":\"float64\",\"order\":\"little\",\"shape\":[377]},\"y1\":{\"__ndarray__\":\"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\",\"dtype\":\"float64\",\"order\":\"little\",\"shape\":[377]}},\"selected\":{\"id\":\"1743\"},\"selection_policy\":{\"id\":\"1744\"}},\"id\":\"1674\",\"type\":\"ColumnDataSource\"},{\"attributes\":{\"bottom\":{\"field\":\"bottom\"},\"fill_color\":{\"value\":\"#D5E1DD\"},\"top\":{\"field\":\"top\"},\"width\":{\"value\":43200000},\"x\":{\"field\":\"x\"}},\"id\":\"1680\",\"type\":\"VBar\"},{\"attributes\":{\"bottom\":{\"field\":\"bottom\"},\"fill_color\":{\"value\":\"#F2583E\"},\"top\":{\"field\":\"top\"},\"width\":{\"value\":43200000},\"x\":{\"field\":\"x\"}},\"id\":\"1685\",\"type\":\"VBar\"},{\"attributes\":{\"data\":{\"bottom\":{\"__ndarray__\":\"uB6F61HWh0BSuB6F68+HQAAAAAAAcIdA7FG4HoUBiEC4HoXrUTaIQNejcD0K5YtAj8L1KFzdi0BSuB6F60eOQArXo3A9+I1AXI/C9SgQj0AUrkfhetyLQI/C9ShcUYxAUrgehesfjEAUrkfheqaIQOF6FK5HnYlAUrgehetli0ApXI/C9fyLQIXrUbgeu4xAhetRuB7LjEAAAAAAAOiLQAAAAAAAroxAzczMzMyIjEDD9Shcj7SPQEjhehSur45A16NwPQpNj0AAAAAAAEKPQDMzMzMzb5BAw/UoXI9wkkDNzMzMzACSQKRwPQrXnJJAAAAAAACwk0AzMzMzM0STQDMzMzMz+JFAexSuR+FzkUAUrkfhelKSQK5H4XoUvJBAMzMzMzNLjkAK16NwPTaQQJqZmZmZFpBAFK5H4XoIjUCkcD0K1y+QQM3MzMzMJpBA16NwPQrYkEAAAAAAANyRQLgehetRupFAcT0K16OakkCF61G4HoCSQEjhehSu8JJAcT0K16NTkkCPwvUoXEmSQArXo3A9KZJAzczMzMxEk0DNzMzMzMqUQJqZmZmZq5dA16NwPQpImEDXo3A9Cm6aQFK4HoXrpZpA16NwPQqQmkDD9ShcD+mhQHE9Ctejz6FAAAAAAADon0DsUbgeBTehQNejcD2KxKNAw/UoXA/2pECF61G4HtakQAAAAAAAJKNAuB6F69HxokApXI/C9amjQK5H4XoUwqRAmpmZmRn6pEC4HoXrUfujQMP1KFwPjKNAPQrXo3DqokDNzMzMzP+jQEjhehQu26NAFK5H4fpCo0C4HoXr0diiQOF6FK7HUKRAUrgeheuKo0DD9Shcj4yjQGZmZmbmJqJAKVyPwvUDokAUrkfh+keiQArXo3C9SqFA16NwPQrKnkDsUbgehfadQFK4HoVrsqFAAAAAAADcpEDXo3A9CnqlQHE9CtejCaRAFK5H4fq5o0CF61G4HvGkQAAAAAAAVqVA7FG4HgUfpUAAAAAAgC2pQBSuR+H6HapAUrgehas7sEAAAAAAgLSwQAAAAAAABLBAzczMzIwDsECPwvUoXLWvQNejcD0KJ69AexSuR2HtsEAzMzMzM92xQGZmZmbm97FAAAAAAAC1sEAAAAAAANiwQB+F61G41LBAH4XrUTiCsEDD9ShcT2+wQMP1KFyPTLBASOF6FK4yrkCuR+F6lDepQI/C9SjcvaxAFK5H4fqdrECamZmZmWGuQFK4HoXrRK5AmpmZmRlCrECPwvUoXDisQD0K16NwoKxAw/UoXA9grkCkcD0K11iwQLgehevRRLBArkfhetTbsEDhehSuh3uwQNejcD1KjbJAMzMzM7MvtkDD9ShcT921QM3MzMwMzrVAAAAAAABRt0BSuB6FK++2QGZmZmZmk7VAcT0K1+OLtkA9CtejsGK2QArXo3D957dAH4XrUbjMvEBI4XoUrje7QAAAAAAA7LtASOF6FC68uUB7FK5HIdO4QIXrUbhe7rZACtejcP36vUAUrkfhOp+/QAAAAAAANb9ApHA9Clcww0AAAAAAANzOQIXrUbi+h8xA\",\"dtype\":\"float64\",\"order\":\"little\",\"shape\":[147]},\"top\":{\"__ndarray__\":\"4XoUrkcXiED2KFyPwteHQAAAAAAA0IdACtejcD0iiEAK16NwPUiIQKRwPQrXk4xAexSuR+Hki0BI4XoUroOOQFK4HoXrT45A7FG4HoVpkUCkcD0K12WPQJqZmZmZUYxAZmZmZmZujEBmZmZmZkiMQKRwPQrXz4lAmpmZmZlPjECkcD0K1zGMQKRwPQrXz4xAAAAAAADejEAzMzMzM4mMQFyPwvUosIxAzczMzMy0jEB7FK5H4SaQQFK4HoXrbpBArkfhehSYj0CkcD0K10WPQJqZmZmZgZBAPQrXo3CQkkDD9Shcj3CSQMP1KFyPqpJAuB6F61EVlEApXI/C9fmTQDMzMzMzRJNAw/UoXI+bkkDhehSuR6WTQBSuR+F6UpJArkfhehS8kEDD9Shcj2mRQArXo3A9NpBAmpmZmZkWkEApXI/C9U+QQKRwPQrXL5BA9ihcj8LvkECuR+F6FOORQAAAAAAA3JFAZmZmZmabkkBxPQrXo5qSQClcj8L1C5NASOF6FK7wkkBxPQrXo1OSQM3MzMzMVZJAPQrXo3Buk0CF61G4Hs6UQFK4HoXrBJhArkfhehRYmEDNzMzMzJGcQAAAAAAA4JtAUrgeheulmkCuR+F6lOiiQMP1KFwP6aFAcT0K16PPoUAzMzMzM+ihQHsUrkfh2aNAFK5H4XqBpkA9CtejcBSnQNejcD0KHqVAAAAAAAAko0AAAAAAAIykQAAAAAAAaKVAKVyPwvUypUCamZmZGfqkQLgehetR+6NAw/UoXA+Mo0AAAAAAAAqkQM3MzMzM/6NASOF6FC7bo0AUrkfh+kKjQM3MzMzMVaRA4XoUrsdQpEBxPQrXI+yjQMP1KFyPjKNAZmZmZuYmokAAAAAAAKiiQBSuR+H6R6JACtejcL1KoUDXo3A9CsqeQFK4HoVr/6FAw/UoXA92pkBSuB6FayGmQClcj8L1j6VAcT0K16MJpEDsUbgeBbKlQIXrUbieT6ZAAAAAAABWpUAK16NwPX+pQLgehevRqKpAFK5H4TrSsECkcD0K1xqxQAAAAACAtLBAAAAAAAAEsEDNzMzMjAOwQI/C9Shcta9AFK5H4foDsUC4HoXr0eKxQDMzMzOzObNA9ihcj0L+sUAAAAAAAAeyQAAAAAAA2LBAH4XrUbjUsEAfhetROIKwQMP1KFxPb7BAw/UoXI9MsEBI4XoUrjKuQOxRuB4F6KxAj8L1KNy9rECamZmZmQWwQJqZmZmZYa5AUrgehetErkCamZmZGUKsQKRwPQpXhq1AAAAAAACcrkDXo3A9SmewQKRwPQrXWLBAFK5H4XonsUCuR+F61NuwQDMzMzOznLJA16NwPUqptkAfhetRuHG2QMP1KFxP3bVAKVyPwnV9t0AAAAAAAFG3QFK4HoUr77ZAAAAAAAACt0BxPQrX44u2QIXrUbhe+bdArkfhetTcvEAfhetRuMy8QLgehetRGr1AAAAAAADsu0BI4XoULry5QHsUrkch07hAKVyPwvWmvkApXI/CFRHAQB+F61FYC8BAXI/C9WhGw0DD9Shc/zXQQAAAAAAA3M5A\",\"dtype\":\"float64\",\"order\":\"little\",\"shape\":[147]},\"x\":{\"__ndarray__\":\"AACArx+MdUIAAEAVcox1QgAAAHvEjHVCAACA3bKOdUIAAIB0/I91QgAAQAjiknVCAAAAbjSTdUIAAAAFfpR1QgAAwGrQlHVCAABAzb6WdUIAAAAzEZd1QgAAgP61l3VCAABAZAiYdUIAAMAvrZh1QgAAAGGkmXVCAAAA+O2adUIAAIDDkpt1QgAAAI83nHVCAADA9ImcdUIAAIBa3Jx1QgAAgPElnnVCAABAV3iedUIAAIAfuaB1QgAAgLYConVCAADA5/midUIAAIBNTKN1QgAAALA6pXVCAADArNamdUIAAIASKad1QgAAwEMgqHVCAADA2mmpdUIAAAAMYap1QgAAwHGzqnVCAABAPVirdUIAAMCfRq11QgAAgAWZrXVCAABAa+utdUIAAEACNa91QgAAAGiHr3VCAADAzdmvdUIAAIDKdbF1QgAAQDDIsXVCAACAYb+ydUIAAAAtZLN1QgAAwJK2s3VCAABAXlu0dUIAAADErbR1QgAAAFv3tXVCAADAwEm2dUIAAIAmnLZ1QgAAAPJAt3VCAACAVC+5dUIAAAC3Hbt1QgAAQH9evXVCAADASgO+dUIAAIBHn791QgAAwHiWwHVCAACA3ujAdUIAAEByzsN1QgAAANggxHVCAADAPXPEdUIAAABvasV1QgAAwGsGx3VCAAAAnf3HdUIAAMCZmcl1QgAAQGU+ynVCAAAAy5DKdUIAAED8h8t1QgAAgC1/zHVCAAAA+SPNdUIAAMBeds11QgAAgMTIzXVCAABAKhvOdUIAAMD1v851QgAAgFsSz3VCAABAwWTPdUIAAAAnt891QgAAwCNT0XVCAACAiaXRdUIAAABVStJ1QgAAwLqc0nVCAACAIO/SdUIAAADsk9N1QgAAwFHm03VCAACAtzjUdUIAAEAdi9R1QgAAgE6C1XVCAAAAGifWdUIAAIDly9Z1QgAAALFw13VCAADAFsPXdUIAAABIuth1QgAAQHmx2XVCAAAA3wPadUIAAAB2Tdt1QgAAQKdE3HVCAADACTPedUIAAEDV1951QgAAADsq33VCAADAoHzfdUIAAIAGz991QgAAQGwh4HVCAAAAab3hdUIAAAAAB+N1QgAAQDH+43VCAADA/KLkdUIAAMCT7OV1QgAAgPk+5nVCAABAX5HmdUIAAADF4+Z1QgAAwCo253VCAACAkIjndUIAAED22ud1QgAAwMF/6HVCAACAJ9LodUIAAADzdul1QgAAwFjJ6XVCAACAvhvqdUIAAEAkbup1QgAAwO8S63VCAABAu7frdUIAAMCGXOx1QgAAgOyu7HVCAACAg/jtdUIAAEDpSu51QgAAwEs58HVCAACASNXxdUIAAAAUevJ1QgAAwHnM8nVCAADAEBb0dUIAAIB2aPR1QgAAQNy69HVCAACADbL1dUIAAEBzBPZ1QgAAwD6p9nVCAABAoZf4dUIAAAAH6vh1QgAAQDjh+XVCAAAAnjP6dUIAAMADhvp1QgAAgGnY+nVCAABAZnT8dUIAAED9vf11QgAAwMhi/nVCAABAK1EAdkIAAAC/NgN2QgAAwCSJA3ZC\",\"dtype\":\"float64\",\"order\":\"little\",\"shape\":[147]}},\"selected\":{\"id\":\"1747\"},\"selection_policy\":{\"id\":\"1748\"}},\"id\":\"1684\",\"type\":\"ColumnDataSource\"},{\"attributes\":{\"days\":[1,2,3,4,5,6,7,8,9,10,11,12,13,14,15,16,17,18,19,20,21,22,23,24,25,26,27,28,29,30,31]},\"id\":\"1752\",\"type\":\"DaysTicker\"},{\"attributes\":{\"days\":[1,4,7,10,13,16,19,22,25,28]},\"id\":\"1753\",\"type\":\"DaysTicker\"},{\"attributes\":{\"formatter\":{\"id\":\"1731\"},\"major_label_policy\":{\"id\":\"1729\"},\"ticker\":{\"id\":\"1628\"}},\"id\":\"1627\",\"type\":\"DatetimeAxis\"},{\"attributes\":{\"bottom\":{\"field\":\"bottom\"},\"fill_alpha\":{\"value\":0.1},\"fill_color\":{\"value\":\"#F2583E\"},\"line_alpha\":{\"value\":0.1},\"top\":{\"field\":\"top\"},\"width\":{\"value\":43200000},\"x\":{\"field\":\"x\"}},\"id\":\"1686\",\"type\":\"VBar\"},{\"attributes\":{\"days\":[1,8,15,22]},\"id\":\"1754\",\"type\":\"DaysTicker\"},{\"attributes\":{\"bottom\":{\"field\":\"bottom\"},\"fill_alpha\":{\"value\":0.1},\"fill_color\":{\"value\":\"#D5E1DD\"},\"line_alpha\":{\"value\":0.1},\"top\":{\"field\":\"top\"},\"width\":{\"value\":43200000},\"x\":{\"field\":\"x\"}},\"id\":\"1681\",\"type\":\"VBar\"},{\"attributes\":{\"line_color\":\"orange\",\"x\":{\"field\":\"x\"},\"y\":{\"field\":\"y\"}},\"id\":\"1665\",\"type\":\"Line\"},{\"attributes\":{\"days\":[1,15]},\"id\":\"1755\",\"type\":\"DaysTicker\"},{\"attributes\":{\"data_source\":{\"id\":\"1684\"},\"glyph\":{\"id\":\"1685\"},\"hover_glyph\":null,\"muted_glyph\":null,\"nonselection_glyph\":{\"id\":\"1686\"},\"view\":{\"id\":\"1688\"}},\"id\":\"1687\",\"type\":\"GlyphRenderer\"},{\"attributes\":{\"source\":{\"id\":\"1669\"}},\"id\":\"1673\",\"type\":\"CDSView\"},{\"attributes\":{},\"id\":\"1731\",\"type\":\"DatetimeTickFormatter\"},{\"attributes\":{\"months\":[0,1,2,3,4,5,6,7,8,9,10,11]},\"id\":\"1756\",\"type\":\"MonthsTicker\"},{\"attributes\":{\"source\":{\"id\":\"1684\"}},\"id\":\"1688\",\"type\":\"CDSView\"},{\"attributes\":{\"bottom\":{\"field\":\"bottom\"},\"fill_alpha\":{\"value\":0.1},\"fill_color\":{\"value\":\"purple\"},\"line_alpha\":{\"value\":0.1},\"line_color\":{\"value\":\"purple\"},\"top\":{\"field\":\"top\"},\"width\":{\"value\":4},\"x\":{\"field\":\"x\"}},\"id\":\"1671\",\"type\":\"VBar\"},{\"attributes\":{\"months\":[0,2,4,6,8,10]},\"id\":\"1757\",\"type\":\"MonthsTicker\"},{\"attributes\":{},\"id\":\"1728\",\"type\":\"BasicTickFormatter\"},{\"attributes\":{\"months\":[0,4,8]},\"id\":\"1758\",\"type\":\"MonthsTicker\"},{\"attributes\":{\"months\":[0,6]},\"id\":\"1759\",\"type\":\"MonthsTicker\"},{\"attributes\":{\"formatter\":{\"id\":\"1728\"},\"major_label_policy\":{\"id\":\"1726\"},\"ticker\":{\"id\":\"1632\"}},\"id\":\"1631\",\"type\":\"LinearAxis\"},{\"attributes\":{\"data_source\":{\"id\":\"1654\"},\"glyph\":{\"id\":\"1655\"},\"hover_glyph\":null,\"muted_glyph\":null,\"nonselection_glyph\":{\"id\":\"1656\"},\"view\":{\"id\":\"1658\"}},\"id\":\"1657\",\"type\":\"GlyphRenderer\"},{\"attributes\":{},\"id\":\"1760\",\"type\":\"YearsTicker\"},{\"attributes\":{},\"id\":\"1619\",\"type\":\"DataRange1d\"},{\"attributes\":{},\"id\":\"1733\",\"type\":\"Selection\"},{\"attributes\":{},\"id\":\"1734\",\"type\":\"UnionRenderers\"},{\"attributes\":{\"line_alpha\":0.1,\"x\":{\"field\":\"x\"},\"y\":{\"field\":\"y\"}},\"id\":\"1651\",\"type\":\"Line\"},{\"attributes\":{\"data\":{\"x\":{\"__ndarray__\":\"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\",\"dtype\":\"float64\",\"order\":\"little\",\"shape\":[377]},\"y\":{\"__ndarray__\":\"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\",\"dtype\":\"float64\",\"order\":\"little\",\"shape\":[377]}},\"selected\":{\"id\":\"1737\"},\"selection_policy\":{\"id\":\"1738\"}},\"id\":\"1659\",\"type\":\"ColumnDataSource\"},{\"attributes\":{},\"id\":\"1735\",\"type\":\"Selection\"},{\"attributes\":{},\"id\":\"1736\",\"type\":\"UnionRenderers\"},{\"attributes\":{\"data_source\":{\"id\":\"1674\"},\"glyph\":{\"id\":\"1675\"},\"hover_glyph\":null,\"muted_glyph\":null,\"nonselection_glyph\":{\"id\":\"1676\"},\"view\":{\"id\":\"1678\"}},\"id\":\"1677\",\"type\":\"GlyphRenderer\"},{\"attributes\":{},\"id\":\"1737\",\"type\":\"Selection\"},{\"attributes\":{\"x0\":{\"field\":\"x0\"},\"x1\":{\"field\":\"x1\"},\"y0\":{\"field\":\"y0\"},\"y1\":{\"field\":\"y1\"}},\"id\":\"1675\",\"type\":\"Segment\"},{\"attributes\":{},\"id\":\"1741\",\"type\":\"Selection\"},{\"attributes\":{\"x\":{\"field\":\"x\"},\"y\":{\"value\":0}},\"id\":\"1655\",\"type\":\"Line\"},{\"attributes\":{},\"id\":\"1738\",\"type\":\"UnionRenderers\"},{\"attributes\":{},\"id\":\"1743\",\"type\":\"Selection\"},{\"attributes\":{},\"id\":\"1739\",\"type\":\"Selection\"},{\"attributes\":{},\"id\":\"1740\",\"type\":\"UnionRenderers\"},{\"attributes\":{\"line_color\":\"blue\",\"x\":{\"field\":\"x\"},\"y\":{\"field\":\"y\"}},\"id\":\"1660\",\"type\":\"Line\"},{\"attributes\":{},\"id\":\"1742\",\"type\":\"UnionRenderers\"},{\"attributes\":{\"line_alpha\":{\"value\":0.1},\"x0\":{\"field\":\"x0\"},\"x1\":{\"field\":\"x1\"},\"y0\":{\"field\":\"y0\"},\"y1\":{\"field\":\"y1\"}},\"id\":\"1676\",\"type\":\"Segment\"},{\"attributes\":{\"source\":{\"id\":\"1674\"}},\"id\":\"1678\",\"type\":\"CDSView\"},{\"attributes\":{},\"id\":\"1744\",\"type\":\"UnionRenderers\"},{\"attributes\":{},\"id\":\"1625\",\"type\":\"LinearScale\"},{\"attributes\":{},\"id\":\"1745\",\"type\":\"Selection\"},{\"attributes\":{},\"id\":\"1636\",\"type\":\"WheelZoomTool\"},{\"attributes\":{\"data\":{\"x\":{\"__ndarray__\":\"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\",\"dtype\":\"float64\",\"order\":\"little\",\"shape\":[377]},\"y\":{\"__ndarray__\":\"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\",\"dtype\":\"float64\",\"order\":\"little\",\"shape\":[377]}},\"selected\":{\"id\":\"1739\"},\"selection_policy\":{\"id\":\"1740\"}},\"id\":\"1664\",\"type\":\"ColumnDataSource\"},{\"attributes\":{\"source\":{\"id\":\"1664\"}},\"id\":\"1668\",\"type\":\"CDSView\"},{\"attributes\":{\"data\":{\"bottom\":[0,0,0,0,0,0,0,0,0,0,0,0,0,0,0,0,0,0,0,0,0,0,0,0,0,0,0,0,0,0,0,0,0,0,0,0,0,0,0,0,0,0,0,0,0,0,0,0,0,0,0,0,0,0,0,0,0,0,0,0,0,0,0,0,0,0,0,0,0,0,0,0,0,0,0,0,0,0,0,0,0,0,0,0,0,0,0,0,0,0,0,0,0,0,0,0,0,0,0,0,0,0,0,0,0,0,0,0,0,0,0,0,0,0,0,0,0,0,0,0,0,0,0,0,0,0,0,0,0,0,0,0,0,0,0,0,0,0,0,0,0,0,0,0,0,0,0,0,0,0,0,0,0,0,0,0,0,0,0,0,0,0,0,0,0,0,0,0,0,0,0,0,0,0,0,0,0,0,0,0,0,0,0,0,0,0,0,0,0,0,0,0,0,0,0,0,0,0,0,0,0,0,0,0,0,0,0,0,0,0,0,0,0,0,0,0,0,0,0,0,0,0,0,0,0,0,0,0,0,0,0,0,0,0,0,0,0,0,0,0,0,0,0,0,0,0,0,0,0,0,0,0,0,0,0,0,0,0,0,0,0,0,0,0,0,0,0,0,0,0,0,0,0,0,0,0,0,0,0,0,0,0,0,0,0,0,0,0,0,0,0,0,0,0,0,0,0,0,0,0,0,0,0,0,0,0,0,0,0,0,0,0,0,0,0,0,0,0,0,0,0,0,0,0,0,0,0,0,0,0,0,0,0,0,0,0,0,0,0,0,0,0,0,0,0,0,0,0,0,0,0,0,0,0,0,0,0,0,0,0,0,0,0,0,0,0,0,0,0,0,0,0,0,0,0,0,0],\"top\":{\"__ndarray__\":\"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\",\"dtype\":\"float64\",\"order\":\"little\",\"shape\":[377]},\"x\":{\"__ndarray__\":\"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\",\"dtype\":\"float64\",\"order\":\"little\",\"shape\":[377]}},\"selected\":{\"id\":\"1741\"},\"selection_policy\":{\"id\":\"1742\"}},\"id\":\"1669\",\"type\":\"ColumnDataSource\"},{\"attributes\":{\"axis\":{\"id\":\"1631\"},\"dimension\":1,\"ticker\":null},\"id\":\"1634\",\"type\":\"Grid\"},{\"attributes\":{},\"id\":\"1638\",\"type\":\"SaveTool\"},{\"attributes\":{\"data\":{\"x\":{\"__ndarray__\":\"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\",\"dtype\":\"float64\",\"order\":\"little\",\"shape\":[377]},\"y\":{\"__ndarray__\":\"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\",\"dtype\":\"float64\",\"order\":\"little\",\"shape\":[377]}},\"selected\":{\"id\":\"1733\"},\"selection_policy\":{\"id\":\"1734\"}},\"id\":\"1649\",\"type\":\"ColumnDataSource\"},{\"attributes\":{\"line_alpha\":0.1,\"line_color\":\"blue\",\"x\":{\"field\":\"x\"},\"y\":{\"field\":\"y\"}},\"id\":\"1661\",\"type\":\"Line\"},{\"attributes\":{\"bottom\":{\"field\":\"bottom\"},\"fill_color\":{\"value\":\"purple\"},\"line_color\":{\"value\":\"purple\"},\"top\":{\"field\":\"top\"},\"width\":{\"value\":4},\"x\":{\"field\":\"x\"}},\"id\":\"1670\",\"type\":\"VBar\"},{\"attributes\":{\"num_minor_ticks\":5,\"tickers\":[{\"id\":\"1749\"},{\"id\":\"1750\"},{\"id\":\"1751\"},{\"id\":\"1752\"},{\"id\":\"1753\"},{\"id\":\"1754\"},{\"id\":\"1755\"},{\"id\":\"1756\"},{\"id\":\"1757\"},{\"id\":\"1758\"},{\"id\":\"1759\"},{\"id\":\"1760\"}]},\"id\":\"1628\",\"type\":\"DatetimeTicker\"},{\"attributes\":{\"data\":{\"x\":{\"__ndarray__\":\"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\",\"dtype\":\"float64\",\"order\":\"little\",\"shape\":[377]}},\"selected\":{\"id\":\"1735\"},\"selection_policy\":{\"id\":\"1736\"}},\"id\":\"1654\",\"type\":\"ColumnDataSource\"},{\"attributes\":{\"active_multi\":null,\"tools\":[{\"id\":\"1635\"},{\"id\":\"1636\"},{\"id\":\"1637\"},{\"id\":\"1638\"},{\"id\":\"1639\"},{\"id\":\"1640\"}]},\"id\":\"1642\",\"type\":\"Toolbar\"},{\"attributes\":{},\"id\":\"1635\",\"type\":\"PanTool\"},{\"attributes\":{\"overlay\":{\"id\":\"1641\"}},\"id\":\"1637\",\"type\":\"BoxZoomTool\"},{\"attributes\":{\"x\":{\"field\":\"x\"},\"y\":{\"field\":\"y\"}},\"id\":\"1650\",\"type\":\"Line\"},{\"attributes\":{\"line_alpha\":0.1,\"x\":{\"field\":\"x\"},\"y\":{\"value\":0}},\"id\":\"1656\",\"type\":\"Line\"},{\"attributes\":{\"bottom_units\":\"screen\",\"fill_alpha\":0.5,\"fill_color\":\"lightgrey\",\"left_units\":\"screen\",\"level\":\"overlay\",\"line_alpha\":1.0,\"line_color\":\"black\",\"line_dash\":[4,4],\"line_width\":2,\"right_units\":\"screen\",\"syncable\":false,\"top_units\":\"screen\"},\"id\":\"1641\",\"type\":\"BoxAnnotation\"},{\"attributes\":{},\"id\":\"1729\",\"type\":\"AllLabels\"},{\"attributes\":{\"line_alpha\":0.1,\"line_color\":\"orange\",\"x\":{\"field\":\"x\"},\"y\":{\"field\":\"y\"}},\"id\":\"1666\",\"type\":\"Line\"},{\"attributes\":{},\"id\":\"1726\",\"type\":\"AllLabels\"},{\"attributes\":{\"source\":{\"id\":\"1659\"}},\"id\":\"1663\",\"type\":\"CDSView\"},{\"attributes\":{},\"id\":\"1632\",\"type\":\"BasicTicker\"},{\"attributes\":{\"data_source\":{\"id\":\"1649\"},\"glyph\":{\"id\":\"1650\"},\"hover_glyph\":null,\"muted_glyph\":null,\"nonselection_glyph\":{\"id\":\"1651\"},\"view\":{\"id\":\"1653\"}},\"id\":\"1652\",\"type\":\"GlyphRenderer\"},{\"attributes\":{},\"id\":\"1639\",\"type\":\"ResetTool\"},{\"attributes\":{\"source\":{\"id\":\"1654\"}},\"id\":\"1658\",\"type\":\"CDSView\"},{\"attributes\":{\"data_source\":{\"id\":\"1659\"},\"glyph\":{\"id\":\"1660\"},\"hover_glyph\":null,\"muted_glyph\":null,\"nonselection_glyph\":{\"id\":\"1661\"},\"view\":{\"id\":\"1663\"}},\"id\":\"1662\",\"type\":\"GlyphRenderer\"},{\"attributes\":{\"text\":\"day datapoints from 2016-01-01 00:00 to 2017-12-10 00:00 for BTC and USD from Bitstamp with MACD strategy\"},\"id\":\"1617\",\"type\":\"Title\"},{\"attributes\":{\"data_source\":{\"id\":\"1664\"},\"glyph\":{\"id\":\"1665\"},\"hover_glyph\":null,\"muted_glyph\":null,\"nonselection_glyph\":{\"id\":\"1666\"},\"view\":{\"id\":\"1668\"}},\"id\":\"1667\",\"type\":\"GlyphRenderer\"},{\"attributes\":{},\"id\":\"1640\",\"type\":\"HelpTool\"},{\"attributes\":{\"source\":{\"id\":\"1649\"}},\"id\":\"1653\",\"type\":\"CDSView\"}],\"root_ids\":[\"1616\"]},\"title\":\"Bokeh Application\",\"version\":\"2.3.3\"}};\n",
              "  var render_items = [{\"docid\":\"c6471fd7-9ea9-44e3-92ff-bed7173869b2\",\"root_ids\":[\"1616\"],\"roots\":{\"1616\":\"356734f0-7b40-4b75-84c5-4bc107da2003\"}}];\n",
              "  root.Bokeh.embed.embed_items_notebook(docs_json, render_items);\n",
              "\n",
              "  }\n",
              "  if (root.Bokeh !== undefined) {\n",
              "    embed_document(root);\n",
              "  } else {\n",
              "    var attempts = 0;\n",
              "    var timer = setInterval(function(root) {\n",
              "      if (root.Bokeh !== undefined) {\n",
              "        clearInterval(timer);\n",
              "        embed_document(root);\n",
              "      } else {\n",
              "        attempts++;\n",
              "        if (attempts > 100) {\n",
              "          clearInterval(timer);\n",
              "          console.log(\"Bokeh: ERROR: Unable to run BokehJS code because BokehJS library is missing\");\n",
              "        }\n",
              "      }\n",
              "    }, 10, root)\n",
              "  }\n",
              "})(window);"
            ],
            "application/vnd.bokehjs_exec.v0+json": ""
          },
          "metadata": {
            "application/vnd.bokehjs_exec.v0+json": {
              "id": "1616"
            }
          }
        }
      ],
      "source": [
        "from math import pi\n",
        "\n",
        "from bokeh.plotting import figure, show, output_notebook, output_file\n",
        "output_notebook()\n",
        "\n",
        "datetime_from = '2016-01-01 00:00'\n",
        "datetime_to = '2017-12-10 00:00'\n",
        "\n",
        "\n",
        "def get_candlestick_width(datetime_interval):\n",
        "    if datetime_interval == 'minute':\n",
        "        return 30 * 60 * 1000  # half minute in ms\n",
        "    elif datetime_interval == 'hour':\n",
        "        return 0.5 * 60 * 60 * 1000  # half hour in ms\n",
        "    elif datetime_interval == 'day':\n",
        "        return 12 * 60 * 60 * 1000  # half day in ms\n",
        "\n",
        "\n",
        "df_limit = df[datetime_from: datetime_to].copy()\n",
        "inc = df_limit.close > df_limit.open\n",
        "dec = df_limit.open > df_limit.close\n",
        "\n",
        "title = '%s datapoints from %s to %s for %s and %s from %s with MACD strategy' % (\n",
        "    datetime_interval, datetime_from, datetime_to, from_symbol, to_symbol, exchange)\n",
        "p = figure(x_axis_type=\"datetime\",  plot_width=1000, title=title)\n",
        "\n",
        "p.line(df_limit.index, df_limit.close, color='black')\n",
        "\n",
        "# plot macd strategy\n",
        "p.line(df_limit.index, 0, color='black')\n",
        "p.line(df_limit.index, df_limit.macd, color='blue')\n",
        "p.line(df_limit.index, df_limit.macds, color='orange')\n",
        "p.vbar(x=df_limit.index, bottom=[\n",
        "       0 for _ in df_limit.index], top=df_limit.macdh, width=4, color=\"purple\")\n",
        "\n",
        "# plot candlesticks\n",
        "candlestick_width = get_candlestick_width(datetime_interval)\n",
        "p.segment(df_limit.index, df_limit.high,\n",
        "          df_limit.index, df_limit.low, color=\"black\")\n",
        "p.vbar(df_limit.index[inc], candlestick_width, df_limit.open[inc],\n",
        "       df_limit.close[inc], fill_color=\"#D5E1DD\", line_color=\"black\")\n",
        "p.vbar(df_limit.index[dec], candlestick_width, df_limit.open[dec],\n",
        "       df_limit.close[dec], fill_color=\"#F2583E\", line_color=\"black\")\n",
        "\n",
        "output_file(\"visualizing_trading_strategy.html\", title=\"visualizing trading strategy\")\n",
        "show(p)"
      ]
    },
    {
      "cell_type": "markdown",
      "metadata": {
        "id": "rYP4DFsBTbuZ"
      },
      "source": [
        "# Cryptocurrency Analysis with Python - Buy and Hold\n",
        "\n",
        "In this part, I am going to analyze which coin (Bitcoin, Ethereum or Litecoin) was the most profitable in last two months if we would invest using buy and hold strategy. \n",
        "We'll go through the analysis of these 3 cryptocurrencies and try to give an objective answer.\n",
        "You can run this code by downloading [Jupyter notebook]({{site.url}}/assets/notebooks/2017-12-25-cryptocurrency-analysis-with-python-part2.ipynb).\n",
        "    \n",
        "Follow me on [twitter](https://twitter.com/romanorac) to get latest updates.\n",
        "\n",
        "![]({{site.url}}/assets/images/bitcoin-ethereum-litecoin.png \"Bitcoin, Ethereum, and Litecoin\")"
      ]
    },
    {
      "cell_type": "markdown",
      "metadata": {
        "id": "iQzy4GcZTbua"
      },
      "source": [
        "## Requirements\n",
        "\n",
        "- [seaborn: statistical data visualization](https://seaborn.pydata.org/)\n",
        "\n",
        "For other requirements, see\n",
        "[previous blog post](https://romanorac.github.io/cryptocurrency/analysis/2017/12/17/cryptocurrency-analysis-with-python-part1.html)\n",
        "in this series."
      ]
    },
    {
      "cell_type": "markdown",
      "metadata": {
        "id": "1-OPWQ1jTbua"
      },
      "source": [
        "## Getting the data\n",
        "\n",
        "To get the latest data, see [previous blog post]({{site.url}}/cryptocurrency/analysis/2017/12/17/cryptocurrency-analysis-with-python-part1.html),\n",
        "where I described how to download it using Cryptocompare API.\n",
        "You can also use the [data]({{site.url}}/assets/data/) I worked with in this example.\n",
        "\n",
        "First, we download hourly data for BTC, ETH and LTC from Coinbase exchange.\n",
        "This time we work with hourly time interval as it has higher granularity.\n",
        "Cryptocompare API limits response to 2000 samples, which is 2.7 months of data for each coin."
      ]
    },
    {
      "cell_type": "code",
      "execution_count": 39,
      "metadata": {
        "id": "H5JJ6p9vTbua"
      },
      "outputs": [],
      "source": [
        "import pandas as pd\n",
        "\n",
        "def get_filename(from_symbol, to_symbol, exchange, datetime_interval, download_date):\n",
        "    return '%s_%s_%s_%s_%s.csv' % (from_symbol, to_symbol, exchange, datetime_interval, download_date)\n",
        "\n",
        "def read_dataset(filename):\n",
        "    print('Reading data from %s' % filename)\n",
        "    df = pd.read_csv(filename)\n",
        "    df.datetime = pd.to_datetime(df.datetime) # change type from object to datetime\n",
        "    df = df.set_index('datetime') \n",
        "    df = df.sort_index() # sort by datetime\n",
        "    print(df.shape)\n",
        "    return df"
      ]
    },
    {
      "cell_type": "markdown",
      "metadata": {
        "id": "htQzq_8CTbua"
      },
      "source": [
        "## Load the data"
      ]
    },
    {
      "cell_type": "code",
      "execution_count": 40,
      "metadata": {
        "colab": {
          "base_uri": "https://localhost:8080/"
        },
        "id": "ZUmVkmGgTbub",
        "outputId": "4f6c5722-993f-434d-bf61-b93b9b6b6677"
      },
      "outputs": [
        {
          "output_type": "stream",
          "name": "stdout",
          "text": [
            "Reading data from BTC_USD_Coinbase_hour_2017-12-24.csv\n",
            "(2001, 6)\n",
            "Reading data from ETH_USD_Coinbase_hour_2017-12-24.csv\n",
            "(2001, 6)\n",
            "Reading data from LTC_USD_Coinbase_hour_2017-12-24.csv\n",
            "(2001, 6)\n"
          ]
        }
      ],
      "source": [
        "df_btc = read_dataset(get_filename('BTC', 'USD', 'Coinbase', 'hour', '2017-12-24'))\n",
        "df_eth = read_dataset(get_filename('ETH', 'USD', 'Coinbase', 'hour', '2017-12-24'))\n",
        "df_ltc = read_dataset(get_filename('LTC', 'USD', 'Coinbase', 'hour', '2017-12-24'))"
      ]
    },
    {
      "cell_type": "code",
      "execution_count": 41,
      "metadata": {
        "colab": {
          "base_uri": "https://localhost:8080/",
          "height": 237
        },
        "id": "91e2Ai6jTbub",
        "outputId": "5fc4fcc1-b4ae-442a-9c83-7874ca2ebf54"
      },
      "outputs": [
        {
          "output_type": "execute_result",
          "data": {
            "text/plain": [
              "                         low     high     open    close  volumefrom  \\\n",
              "datetime                                                              \n",
              "2017-10-02 08:00:00  4435.00  4448.98  4435.01  4448.85       85.51   \n",
              "2017-10-02 09:00:00  4448.84  4470.00  4448.85  4464.49      165.17   \n",
              "2017-10-02 10:00:00  4450.27  4469.00  4464.49  4461.63      194.95   \n",
              "2017-10-02 11:00:00  4399.00  4461.63  4461.63  4399.51      326.71   \n",
              "2017-10-02 12:00:00  4378.22  4417.91  4399.51  4383.00      549.29   \n",
              "\n",
              "                       volumeto  \n",
              "datetime                         \n",
              "2017-10-02 08:00:00   379813.67  \n",
              "2017-10-02 09:00:00   736269.53  \n",
              "2017-10-02 10:00:00   870013.62  \n",
              "2017-10-02 11:00:00  1445572.02  \n",
              "2017-10-02 12:00:00  2412712.73  "
            ],
            "text/html": [
              "\n",
              "  <div id=\"df-d1526566-dd75-41b9-b452-e92cf85a73cf\">\n",
              "    <div class=\"colab-df-container\">\n",
              "      <div>\n",
              "<style scoped>\n",
              "    .dataframe tbody tr th:only-of-type {\n",
              "        vertical-align: middle;\n",
              "    }\n",
              "\n",
              "    .dataframe tbody tr th {\n",
              "        vertical-align: top;\n",
              "    }\n",
              "\n",
              "    .dataframe thead th {\n",
              "        text-align: right;\n",
              "    }\n",
              "</style>\n",
              "<table border=\"1\" class=\"dataframe\">\n",
              "  <thead>\n",
              "    <tr style=\"text-align: right;\">\n",
              "      <th></th>\n",
              "      <th>low</th>\n",
              "      <th>high</th>\n",
              "      <th>open</th>\n",
              "      <th>close</th>\n",
              "      <th>volumefrom</th>\n",
              "      <th>volumeto</th>\n",
              "    </tr>\n",
              "    <tr>\n",
              "      <th>datetime</th>\n",
              "      <th></th>\n",
              "      <th></th>\n",
              "      <th></th>\n",
              "      <th></th>\n",
              "      <th></th>\n",
              "      <th></th>\n",
              "    </tr>\n",
              "  </thead>\n",
              "  <tbody>\n",
              "    <tr>\n",
              "      <th>2017-10-02 08:00:00</th>\n",
              "      <td>4435.00</td>\n",
              "      <td>4448.98</td>\n",
              "      <td>4435.01</td>\n",
              "      <td>4448.85</td>\n",
              "      <td>85.51</td>\n",
              "      <td>379813.67</td>\n",
              "    </tr>\n",
              "    <tr>\n",
              "      <th>2017-10-02 09:00:00</th>\n",
              "      <td>4448.84</td>\n",
              "      <td>4470.00</td>\n",
              "      <td>4448.85</td>\n",
              "      <td>4464.49</td>\n",
              "      <td>165.17</td>\n",
              "      <td>736269.53</td>\n",
              "    </tr>\n",
              "    <tr>\n",
              "      <th>2017-10-02 10:00:00</th>\n",
              "      <td>4450.27</td>\n",
              "      <td>4469.00</td>\n",
              "      <td>4464.49</td>\n",
              "      <td>4461.63</td>\n",
              "      <td>194.95</td>\n",
              "      <td>870013.62</td>\n",
              "    </tr>\n",
              "    <tr>\n",
              "      <th>2017-10-02 11:00:00</th>\n",
              "      <td>4399.00</td>\n",
              "      <td>4461.63</td>\n",
              "      <td>4461.63</td>\n",
              "      <td>4399.51</td>\n",
              "      <td>326.71</td>\n",
              "      <td>1445572.02</td>\n",
              "    </tr>\n",
              "    <tr>\n",
              "      <th>2017-10-02 12:00:00</th>\n",
              "      <td>4378.22</td>\n",
              "      <td>4417.91</td>\n",
              "      <td>4399.51</td>\n",
              "      <td>4383.00</td>\n",
              "      <td>549.29</td>\n",
              "      <td>2412712.73</td>\n",
              "    </tr>\n",
              "  </tbody>\n",
              "</table>\n",
              "</div>\n",
              "      <button class=\"colab-df-convert\" onclick=\"convertToInteractive('df-d1526566-dd75-41b9-b452-e92cf85a73cf')\"\n",
              "              title=\"Convert this dataframe to an interactive table.\"\n",
              "              style=\"display:none;\">\n",
              "        \n",
              "  <svg xmlns=\"http://www.w3.org/2000/svg\" height=\"24px\"viewBox=\"0 0 24 24\"\n",
              "       width=\"24px\">\n",
              "    <path d=\"M0 0h24v24H0V0z\" fill=\"none\"/>\n",
              "    <path d=\"M18.56 5.44l.94 2.06.94-2.06 2.06-.94-2.06-.94-.94-2.06-.94 2.06-2.06.94zm-11 1L8.5 8.5l.94-2.06 2.06-.94-2.06-.94L8.5 2.5l-.94 2.06-2.06.94zm10 10l.94 2.06.94-2.06 2.06-.94-2.06-.94-.94-2.06-.94 2.06-2.06.94z\"/><path d=\"M17.41 7.96l-1.37-1.37c-.4-.4-.92-.59-1.43-.59-.52 0-1.04.2-1.43.59L10.3 9.45l-7.72 7.72c-.78.78-.78 2.05 0 2.83L4 21.41c.39.39.9.59 1.41.59.51 0 1.02-.2 1.41-.59l7.78-7.78 2.81-2.81c.8-.78.8-2.07 0-2.86zM5.41 20L4 18.59l7.72-7.72 1.47 1.35L5.41 20z\"/>\n",
              "  </svg>\n",
              "      </button>\n",
              "      \n",
              "  <style>\n",
              "    .colab-df-container {\n",
              "      display:flex;\n",
              "      flex-wrap:wrap;\n",
              "      gap: 12px;\n",
              "    }\n",
              "\n",
              "    .colab-df-convert {\n",
              "      background-color: #E8F0FE;\n",
              "      border: none;\n",
              "      border-radius: 50%;\n",
              "      cursor: pointer;\n",
              "      display: none;\n",
              "      fill: #1967D2;\n",
              "      height: 32px;\n",
              "      padding: 0 0 0 0;\n",
              "      width: 32px;\n",
              "    }\n",
              "\n",
              "    .colab-df-convert:hover {\n",
              "      background-color: #E2EBFA;\n",
              "      box-shadow: 0px 1px 2px rgba(60, 64, 67, 0.3), 0px 1px 3px 1px rgba(60, 64, 67, 0.15);\n",
              "      fill: #174EA6;\n",
              "    }\n",
              "\n",
              "    [theme=dark] .colab-df-convert {\n",
              "      background-color: #3B4455;\n",
              "      fill: #D2E3FC;\n",
              "    }\n",
              "\n",
              "    [theme=dark] .colab-df-convert:hover {\n",
              "      background-color: #434B5C;\n",
              "      box-shadow: 0px 1px 3px 1px rgba(0, 0, 0, 0.15);\n",
              "      filter: drop-shadow(0px 1px 2px rgba(0, 0, 0, 0.3));\n",
              "      fill: #FFFFFF;\n",
              "    }\n",
              "  </style>\n",
              "\n",
              "      <script>\n",
              "        const buttonEl =\n",
              "          document.querySelector('#df-d1526566-dd75-41b9-b452-e92cf85a73cf button.colab-df-convert');\n",
              "        buttonEl.style.display =\n",
              "          google.colab.kernel.accessAllowed ? 'block' : 'none';\n",
              "\n",
              "        async function convertToInteractive(key) {\n",
              "          const element = document.querySelector('#df-d1526566-dd75-41b9-b452-e92cf85a73cf');\n",
              "          const dataTable =\n",
              "            await google.colab.kernel.invokeFunction('convertToInteractive',\n",
              "                                                     [key], {});\n",
              "          if (!dataTable) return;\n",
              "\n",
              "          const docLinkHtml = 'Like what you see? Visit the ' +\n",
              "            '<a target=\"_blank\" href=https://colab.research.google.com/notebooks/data_table.ipynb>data table notebook</a>'\n",
              "            + ' to learn more about interactive tables.';\n",
              "          element.innerHTML = '';\n",
              "          dataTable['output_type'] = 'display_data';\n",
              "          await google.colab.output.renderOutput(dataTable, element);\n",
              "          const docLink = document.createElement('div');\n",
              "          docLink.innerHTML = docLinkHtml;\n",
              "          element.appendChild(docLink);\n",
              "        }\n",
              "      </script>\n",
              "    </div>\n",
              "  </div>\n",
              "  "
            ]
          },
          "metadata": {},
          "execution_count": 41
        }
      ],
      "source": [
        "df_btc.head()"
      ]
    },
    {
      "cell_type": "markdown",
      "metadata": {
        "id": "YLCc91ZeTbub"
      },
      "source": [
        "## Extract closing prices"
      ]
    },
    {
      "cell_type": "markdown",
      "metadata": {
        "id": "3qdWy0OFTbub"
      },
      "source": [
        "We are going to analyze closing prices, which are prices at which the hourly period closed. \n",
        "We merge BTC, ETH and LTC closing prices to a Dataframe to make analysis easier."
      ]
    },
    {
      "cell_type": "code",
      "execution_count": 42,
      "metadata": {
        "id": "iIe9kpDfTbuc"
      },
      "outputs": [],
      "source": [
        "df = pd.DataFrame({'BTC': df_btc.close,\n",
        "                   'ETH': df_eth.close,\n",
        "                   'LTC': df_ltc.close})"
      ]
    },
    {
      "cell_type": "code",
      "execution_count": 43,
      "metadata": {
        "colab": {
          "base_uri": "https://localhost:8080/",
          "height": 237
        },
        "id": "BFZ0EwhuTbuc",
        "outputId": "c3d32630-da04-49a2-ca1a-5aef9d8c3592"
      },
      "outputs": [
        {
          "output_type": "execute_result",
          "data": {
            "text/plain": [
              "                         BTC     ETH    LTC\n",
              "datetime                                   \n",
              "2017-10-02 08:00:00  4448.85  301.37  54.72\n",
              "2017-10-02 09:00:00  4464.49  301.84  54.79\n",
              "2017-10-02 10:00:00  4461.63  301.95  54.63\n",
              "2017-10-02 11:00:00  4399.51  300.02  54.01\n",
              "2017-10-02 12:00:00  4383.00  297.51  53.71"
            ],
            "text/html": [
              "\n",
              "  <div id=\"df-8460ebe5-90fa-454e-aae3-c95f7927a316\">\n",
              "    <div class=\"colab-df-container\">\n",
              "      <div>\n",
              "<style scoped>\n",
              "    .dataframe tbody tr th:only-of-type {\n",
              "        vertical-align: middle;\n",
              "    }\n",
              "\n",
              "    .dataframe tbody tr th {\n",
              "        vertical-align: top;\n",
              "    }\n",
              "\n",
              "    .dataframe thead th {\n",
              "        text-align: right;\n",
              "    }\n",
              "</style>\n",
              "<table border=\"1\" class=\"dataframe\">\n",
              "  <thead>\n",
              "    <tr style=\"text-align: right;\">\n",
              "      <th></th>\n",
              "      <th>BTC</th>\n",
              "      <th>ETH</th>\n",
              "      <th>LTC</th>\n",
              "    </tr>\n",
              "    <tr>\n",
              "      <th>datetime</th>\n",
              "      <th></th>\n",
              "      <th></th>\n",
              "      <th></th>\n",
              "    </tr>\n",
              "  </thead>\n",
              "  <tbody>\n",
              "    <tr>\n",
              "      <th>2017-10-02 08:00:00</th>\n",
              "      <td>4448.85</td>\n",
              "      <td>301.37</td>\n",
              "      <td>54.72</td>\n",
              "    </tr>\n",
              "    <tr>\n",
              "      <th>2017-10-02 09:00:00</th>\n",
              "      <td>4464.49</td>\n",
              "      <td>301.84</td>\n",
              "      <td>54.79</td>\n",
              "    </tr>\n",
              "    <tr>\n",
              "      <th>2017-10-02 10:00:00</th>\n",
              "      <td>4461.63</td>\n",
              "      <td>301.95</td>\n",
              "      <td>54.63</td>\n",
              "    </tr>\n",
              "    <tr>\n",
              "      <th>2017-10-02 11:00:00</th>\n",
              "      <td>4399.51</td>\n",
              "      <td>300.02</td>\n",
              "      <td>54.01</td>\n",
              "    </tr>\n",
              "    <tr>\n",
              "      <th>2017-10-02 12:00:00</th>\n",
              "      <td>4383.00</td>\n",
              "      <td>297.51</td>\n",
              "      <td>53.71</td>\n",
              "    </tr>\n",
              "  </tbody>\n",
              "</table>\n",
              "</div>\n",
              "      <button class=\"colab-df-convert\" onclick=\"convertToInteractive('df-8460ebe5-90fa-454e-aae3-c95f7927a316')\"\n",
              "              title=\"Convert this dataframe to an interactive table.\"\n",
              "              style=\"display:none;\">\n",
              "        \n",
              "  <svg xmlns=\"http://www.w3.org/2000/svg\" height=\"24px\"viewBox=\"0 0 24 24\"\n",
              "       width=\"24px\">\n",
              "    <path d=\"M0 0h24v24H0V0z\" fill=\"none\"/>\n",
              "    <path d=\"M18.56 5.44l.94 2.06.94-2.06 2.06-.94-2.06-.94-.94-2.06-.94 2.06-2.06.94zm-11 1L8.5 8.5l.94-2.06 2.06-.94-2.06-.94L8.5 2.5l-.94 2.06-2.06.94zm10 10l.94 2.06.94-2.06 2.06-.94-2.06-.94-.94-2.06-.94 2.06-2.06.94z\"/><path d=\"M17.41 7.96l-1.37-1.37c-.4-.4-.92-.59-1.43-.59-.52 0-1.04.2-1.43.59L10.3 9.45l-7.72 7.72c-.78.78-.78 2.05 0 2.83L4 21.41c.39.39.9.59 1.41.59.51 0 1.02-.2 1.41-.59l7.78-7.78 2.81-2.81c.8-.78.8-2.07 0-2.86zM5.41 20L4 18.59l7.72-7.72 1.47 1.35L5.41 20z\"/>\n",
              "  </svg>\n",
              "      </button>\n",
              "      \n",
              "  <style>\n",
              "    .colab-df-container {\n",
              "      display:flex;\n",
              "      flex-wrap:wrap;\n",
              "      gap: 12px;\n",
              "    }\n",
              "\n",
              "    .colab-df-convert {\n",
              "      background-color: #E8F0FE;\n",
              "      border: none;\n",
              "      border-radius: 50%;\n",
              "      cursor: pointer;\n",
              "      display: none;\n",
              "      fill: #1967D2;\n",
              "      height: 32px;\n",
              "      padding: 0 0 0 0;\n",
              "      width: 32px;\n",
              "    }\n",
              "\n",
              "    .colab-df-convert:hover {\n",
              "      background-color: #E2EBFA;\n",
              "      box-shadow: 0px 1px 2px rgba(60, 64, 67, 0.3), 0px 1px 3px 1px rgba(60, 64, 67, 0.15);\n",
              "      fill: #174EA6;\n",
              "    }\n",
              "\n",
              "    [theme=dark] .colab-df-convert {\n",
              "      background-color: #3B4455;\n",
              "      fill: #D2E3FC;\n",
              "    }\n",
              "\n",
              "    [theme=dark] .colab-df-convert:hover {\n",
              "      background-color: #434B5C;\n",
              "      box-shadow: 0px 1px 3px 1px rgba(0, 0, 0, 0.15);\n",
              "      filter: drop-shadow(0px 1px 2px rgba(0, 0, 0, 0.3));\n",
              "      fill: #FFFFFF;\n",
              "    }\n",
              "  </style>\n",
              "\n",
              "      <script>\n",
              "        const buttonEl =\n",
              "          document.querySelector('#df-8460ebe5-90fa-454e-aae3-c95f7927a316 button.colab-df-convert');\n",
              "        buttonEl.style.display =\n",
              "          google.colab.kernel.accessAllowed ? 'block' : 'none';\n",
              "\n",
              "        async function convertToInteractive(key) {\n",
              "          const element = document.querySelector('#df-8460ebe5-90fa-454e-aae3-c95f7927a316');\n",
              "          const dataTable =\n",
              "            await google.colab.kernel.invokeFunction('convertToInteractive',\n",
              "                                                     [key], {});\n",
              "          if (!dataTable) return;\n",
              "\n",
              "          const docLinkHtml = 'Like what you see? Visit the ' +\n",
              "            '<a target=\"_blank\" href=https://colab.research.google.com/notebooks/data_table.ipynb>data table notebook</a>'\n",
              "            + ' to learn more about interactive tables.';\n",
              "          element.innerHTML = '';\n",
              "          dataTable['output_type'] = 'display_data';\n",
              "          await google.colab.output.renderOutput(dataTable, element);\n",
              "          const docLink = document.createElement('div');\n",
              "          docLink.innerHTML = docLinkHtml;\n",
              "          element.appendChild(docLink);\n",
              "        }\n",
              "      </script>\n",
              "    </div>\n",
              "  </div>\n",
              "  "
            ]
          },
          "metadata": {},
          "execution_count": 43
        }
      ],
      "source": [
        "df.head()"
      ]
    },
    {
      "cell_type": "markdown",
      "metadata": {
        "id": "n9nDrAtOTbuc"
      },
      "source": [
        "## Analysis\n",
        "\n",
        "### Basic statistics\n",
        "\n",
        "In 2.7 months, all three cryptocurrencies fluctuated a lot as you can observe in the table below. \n",
        "\n",
        "For each coin, we count the number of events and calculate mean, standard deviation, minimum, quartiles and maximum closing price. Quartiles divide the data into four equal groups, each group comprising a quarter of the data.\n",
        "\n",
        "**Few interesting facts**\n",
        "- The difference between the highest and the lowest BTC price was more than \\$15000 in 2.7 months.\n",
        "- The LTC surged from \\$48.61 to \\$378.66 at a certain point, which is an increase of 678.98%."
      ]
    },
    {
      "cell_type": "code",
      "execution_count": 44,
      "metadata": {
        "colab": {
          "base_uri": "https://localhost:8080/",
          "height": 300
        },
        "id": "bS_KK8GqTbuc",
        "outputId": "97fd65e5-41fe-4c56-9146-cf306e02af1e"
      },
      "outputs": [
        {
          "output_type": "execute_result",
          "data": {
            "text/plain": [
              "                BTC          ETH          LTC\n",
              "count   2001.000000  2001.000000  2001.000000\n",
              "mean    9060.256122   407.263793   106.790100\n",
              "std     4404.269591   149.480416    89.142241\n",
              "min     4150.020000   277.810000    48.610000\n",
              "25%     5751.020000   301.510000    55.580000\n",
              "50%     7319.950000   330.800000    63.550000\n",
              "75%    11305.000000   464.390000   100.050000\n",
              "max    19847.110000   858.900000   378.660000"
            ],
            "text/html": [
              "\n",
              "  <div id=\"df-5f20d336-2a3c-41d6-8216-bb09450bb255\">\n",
              "    <div class=\"colab-df-container\">\n",
              "      <div>\n",
              "<style scoped>\n",
              "    .dataframe tbody tr th:only-of-type {\n",
              "        vertical-align: middle;\n",
              "    }\n",
              "\n",
              "    .dataframe tbody tr th {\n",
              "        vertical-align: top;\n",
              "    }\n",
              "\n",
              "    .dataframe thead th {\n",
              "        text-align: right;\n",
              "    }\n",
              "</style>\n",
              "<table border=\"1\" class=\"dataframe\">\n",
              "  <thead>\n",
              "    <tr style=\"text-align: right;\">\n",
              "      <th></th>\n",
              "      <th>BTC</th>\n",
              "      <th>ETH</th>\n",
              "      <th>LTC</th>\n",
              "    </tr>\n",
              "  </thead>\n",
              "  <tbody>\n",
              "    <tr>\n",
              "      <th>count</th>\n",
              "      <td>2001.000000</td>\n",
              "      <td>2001.000000</td>\n",
              "      <td>2001.000000</td>\n",
              "    </tr>\n",
              "    <tr>\n",
              "      <th>mean</th>\n",
              "      <td>9060.256122</td>\n",
              "      <td>407.263793</td>\n",
              "      <td>106.790100</td>\n",
              "    </tr>\n",
              "    <tr>\n",
              "      <th>std</th>\n",
              "      <td>4404.269591</td>\n",
              "      <td>149.480416</td>\n",
              "      <td>89.142241</td>\n",
              "    </tr>\n",
              "    <tr>\n",
              "      <th>min</th>\n",
              "      <td>4150.020000</td>\n",
              "      <td>277.810000</td>\n",
              "      <td>48.610000</td>\n",
              "    </tr>\n",
              "    <tr>\n",
              "      <th>25%</th>\n",
              "      <td>5751.020000</td>\n",
              "      <td>301.510000</td>\n",
              "      <td>55.580000</td>\n",
              "    </tr>\n",
              "    <tr>\n",
              "      <th>50%</th>\n",
              "      <td>7319.950000</td>\n",
              "      <td>330.800000</td>\n",
              "      <td>63.550000</td>\n",
              "    </tr>\n",
              "    <tr>\n",
              "      <th>75%</th>\n",
              "      <td>11305.000000</td>\n",
              "      <td>464.390000</td>\n",
              "      <td>100.050000</td>\n",
              "    </tr>\n",
              "    <tr>\n",
              "      <th>max</th>\n",
              "      <td>19847.110000</td>\n",
              "      <td>858.900000</td>\n",
              "      <td>378.660000</td>\n",
              "    </tr>\n",
              "  </tbody>\n",
              "</table>\n",
              "</div>\n",
              "      <button class=\"colab-df-convert\" onclick=\"convertToInteractive('df-5f20d336-2a3c-41d6-8216-bb09450bb255')\"\n",
              "              title=\"Convert this dataframe to an interactive table.\"\n",
              "              style=\"display:none;\">\n",
              "        \n",
              "  <svg xmlns=\"http://www.w3.org/2000/svg\" height=\"24px\"viewBox=\"0 0 24 24\"\n",
              "       width=\"24px\">\n",
              "    <path d=\"M0 0h24v24H0V0z\" fill=\"none\"/>\n",
              "    <path d=\"M18.56 5.44l.94 2.06.94-2.06 2.06-.94-2.06-.94-.94-2.06-.94 2.06-2.06.94zm-11 1L8.5 8.5l.94-2.06 2.06-.94-2.06-.94L8.5 2.5l-.94 2.06-2.06.94zm10 10l.94 2.06.94-2.06 2.06-.94-2.06-.94-.94-2.06-.94 2.06-2.06.94z\"/><path d=\"M17.41 7.96l-1.37-1.37c-.4-.4-.92-.59-1.43-.59-.52 0-1.04.2-1.43.59L10.3 9.45l-7.72 7.72c-.78.78-.78 2.05 0 2.83L4 21.41c.39.39.9.59 1.41.59.51 0 1.02-.2 1.41-.59l7.78-7.78 2.81-2.81c.8-.78.8-2.07 0-2.86zM5.41 20L4 18.59l7.72-7.72 1.47 1.35L5.41 20z\"/>\n",
              "  </svg>\n",
              "      </button>\n",
              "      \n",
              "  <style>\n",
              "    .colab-df-container {\n",
              "      display:flex;\n",
              "      flex-wrap:wrap;\n",
              "      gap: 12px;\n",
              "    }\n",
              "\n",
              "    .colab-df-convert {\n",
              "      background-color: #E8F0FE;\n",
              "      border: none;\n",
              "      border-radius: 50%;\n",
              "      cursor: pointer;\n",
              "      display: none;\n",
              "      fill: #1967D2;\n",
              "      height: 32px;\n",
              "      padding: 0 0 0 0;\n",
              "      width: 32px;\n",
              "    }\n",
              "\n",
              "    .colab-df-convert:hover {\n",
              "      background-color: #E2EBFA;\n",
              "      box-shadow: 0px 1px 2px rgba(60, 64, 67, 0.3), 0px 1px 3px 1px rgba(60, 64, 67, 0.15);\n",
              "      fill: #174EA6;\n",
              "    }\n",
              "\n",
              "    [theme=dark] .colab-df-convert {\n",
              "      background-color: #3B4455;\n",
              "      fill: #D2E3FC;\n",
              "    }\n",
              "\n",
              "    [theme=dark] .colab-df-convert:hover {\n",
              "      background-color: #434B5C;\n",
              "      box-shadow: 0px 1px 3px 1px rgba(0, 0, 0, 0.15);\n",
              "      filter: drop-shadow(0px 1px 2px rgba(0, 0, 0, 0.3));\n",
              "      fill: #FFFFFF;\n",
              "    }\n",
              "  </style>\n",
              "\n",
              "      <script>\n",
              "        const buttonEl =\n",
              "          document.querySelector('#df-5f20d336-2a3c-41d6-8216-bb09450bb255 button.colab-df-convert');\n",
              "        buttonEl.style.display =\n",
              "          google.colab.kernel.accessAllowed ? 'block' : 'none';\n",
              "\n",
              "        async function convertToInteractive(key) {\n",
              "          const element = document.querySelector('#df-5f20d336-2a3c-41d6-8216-bb09450bb255');\n",
              "          const dataTable =\n",
              "            await google.colab.kernel.invokeFunction('convertToInteractive',\n",
              "                                                     [key], {});\n",
              "          if (!dataTable) return;\n",
              "\n",
              "          const docLinkHtml = 'Like what you see? Visit the ' +\n",
              "            '<a target=\"_blank\" href=https://colab.research.google.com/notebooks/data_table.ipynb>data table notebook</a>'\n",
              "            + ' to learn more about interactive tables.';\n",
              "          element.innerHTML = '';\n",
              "          dataTable['output_type'] = 'display_data';\n",
              "          await google.colab.output.renderOutput(dataTable, element);\n",
              "          const docLink = document.createElement('div');\n",
              "          docLink.innerHTML = docLinkHtml;\n",
              "          element.appendChild(docLink);\n",
              "        }\n",
              "      </script>\n",
              "    </div>\n",
              "  </div>\n",
              "  "
            ]
          },
          "metadata": {},
          "execution_count": 44
        }
      ],
      "source": [
        "df.describe()"
      ]
    },
    {
      "cell_type": "markdown",
      "metadata": {
        "id": "gFJehc7dTbud"
      },
      "source": [
        "### Lets dive deeper into LTC"
      ]
    },
    {
      "cell_type": "markdown",
      "metadata": {
        "id": "G-0yfFW9Tbud"
      },
      "source": [
        "We visualize the data in the table above with a box plot. \n",
        "A box plot shows the quartiles of the dataset with points that are determined to be outliers using a method of the [inter-quartile range](https://en.wikipedia.org/wiki/Interquartile_range) (IQR). \n",
        "`IQR = Q3 − Q1`. \n",
        "In other words, the IQR is the first quartile (25%) subtracted from the third quartile (75%).\n",
        "\n",
        "On the box plot below, \n",
        "we see that LTC closing hourly price was most of the time between \\$50 and \\$100 in the last 2.7 months. \n",
        "All values over \\$150 are outliers (using IQR) in our sample."
      ]
    },
    {
      "cell_type": "code",
      "execution_count": 45,
      "metadata": {
        "colab": {
          "base_uri": "https://localhost:8080/",
          "height": 265
        },
        "id": "BIvg7JHSTbuk",
        "outputId": "f0475d40-64cd-4e2e-dfd1-418c3847699a"
      },
      "outputs": [
        {
          "output_type": "display_data",
          "data": {
            "text/plain": [
              "<Figure size 432x288 with 1 Axes>"
            ],
            "image/png": "[encoded data removed]"
          },
          "metadata": {
            "needs_background": "light"
          }
        }
      ],
      "source": [
        "import seaborn as sns\n",
        "\n",
        "ax = sns.boxplot(data=df['LTC'], orient=\"h\")"
      ]
    },
    {
      "cell_type": "markdown",
      "metadata": {
        "id": "ViPBWlHETbuk"
      },
      "source": [
        "#### Histogram of LTC closing price"
      ]
    },
    {
      "cell_type": "markdown",
      "metadata": {
        "id": "LeJDTRAhTbuk"
      },
      "source": [
        "Let's estimate the frequency distribution of LTC closing prices. \n",
        "\n",
        "**Observations**\n",
        "- it shows the number of hours LTC had a certain value. For example, we can observe that LTC closing price was not over \\$100 for many hours.\n",
        "- it has right-skewed distribution because a natural limit prevents outcomes on one side.\n",
        "- blue dotted line (median) shows that half of the closing prices were under 63.50\\$."
      ]
    },
    {
      "cell_type": "code",
      "execution_count": 46,
      "metadata": {
        "colab": {
          "base_uri": "https://localhost:8080/",
          "height": 609
        },
        "id": "nXqTKo1RTbuk",
        "outputId": "dedeb134-4328-4d33-eef9-b731743a91d2"
      },
      "outputs": [
        {
          "output_type": "execute_result",
          "data": {
            "text/plain": [
              "<matplotlib.lines.Line2D at 0x7fecd4037190>"
            ]
          },
          "metadata": {},
          "execution_count": 46
        },
        {
          "output_type": "display_data",
          "data": {
            "text/plain": [
              "<Figure size 1080x720 with 1 Axes>"
            ],
            "image/png": "[encoded data removed]"
          },
          "metadata": {
            "needs_background": "light"
          }
        }
      ],
      "source": [
        "df['LTC'].hist(bins=30, figsize=(15,10)).axvline(df['LTC'].median(), color='b', linestyle='dashed', linewidth=2)"
      ]
    },
    {
      "cell_type": "markdown",
      "metadata": {
        "id": "IKzvqoLETbul"
      },
      "source": [
        "### Visualize absolute closing prices"
      ]
    },
    {
      "cell_type": "markdown",
      "metadata": {
        "id": "BW2PPZSiTbul"
      },
      "source": [
        "The chart below shows absolute closing prices. \n",
        "It is not of much use as BTC closing prices are much higher \n",
        "then prices of ETH and LTC."
      ]
    },
    {
      "cell_type": "code",
      "execution_count": 47,
      "metadata": {
        "colab": {
          "base_uri": "https://localhost:8080/",
          "height": 657
        },
        "id": "KjEfOINpTbul",
        "outputId": "3f1dc79a-f6a8-4ec6-b6c3-7a98def4e84e"
      },
      "outputs": [
        {
          "output_type": "execute_result",
          "data": {
            "text/plain": [
              "<matplotlib.axes._subplots.AxesSubplot at 0x7fecd3c57610>"
            ]
          },
          "metadata": {},
          "execution_count": 47
        },
        {
          "output_type": "display_data",
          "data": {
            "text/plain": [
              "<Figure size 1080x720 with 1 Axes>"
            ],
            "image/png": "[encoded data removed]"
          },
          "metadata": {
            "needs_background": "light"
          }
        }
      ],
      "source": [
        "df.plot(grid=True, figsize=(15, 10))"
      ]
    },
    {
      "cell_type": "markdown",
      "metadata": {
        "id": "BktKL7-QTbul"
      },
      "source": [
        "### Visualize relative changes of closing prices\n",
        "\n",
        "We are interested in a relative change of the price \n",
        "rather than in absolute price, so we use three different scales.\n",
        "\n",
        "We see that closing prices move in tandem. When one coin closing price increases so do the other."
      ]
    },
    {
      "cell_type": "code",
      "execution_count": 48,
      "metadata": {
        "colab": {
          "base_uri": "https://localhost:8080/",
          "height": 657
        },
        "id": "gQZzZfQZTbul",
        "outputId": "4e7df32b-e9b5-4257-8f86-93858522cf30"
      },
      "outputs": [
        {
          "output_type": "execute_result",
          "data": {
            "text/plain": [
              "<matplotlib.legend.Legend at 0x7fecd3a64c10>"
            ]
          },
          "metadata": {},
          "execution_count": 48
        },
        {
          "output_type": "display_data",
          "data": {
            "text/plain": [
              "<Figure size 1440x720 with 3 Axes>"
            ],
            "image/png": "[encoded data removed]"
          },
          "metadata": {
            "needs_background": "light"
          }
        }
      ],
      "source": [
        "import matplotlib.pyplot as plt\n",
        "import numpy as np\n",
        "\n",
        "fig, ax1 = plt.subplots(figsize=(20, 10))\n",
        "ax2 = ax1.twinx()\n",
        "rspine = ax2.spines['right']\n",
        "rspine.set_position(('axes', 1.15))\n",
        "ax2.set_frame_on(True)\n",
        "ax2.patch.set_visible(False)\n",
        "fig.subplots_adjust(right=0.7)\n",
        "\n",
        "df['BTC'].plot(ax=ax1, style='b-')\n",
        "df['ETH'].plot(ax=ax1, style='r-', secondary_y=True)\n",
        "df['LTC'].plot(ax=ax2, style='g-')\n",
        "\n",
        "# legend\n",
        "ax2.legend([ax1.get_lines()[0],\n",
        "            ax1.right_ax.get_lines()[0],\n",
        "            ax2.get_lines()[0]],\n",
        "           ['BTC', 'ETH', 'LTC'])"
      ]
    },
    {
      "cell_type": "markdown",
      "metadata": {
        "id": "-_knlHz2Tbul"
      },
      "source": [
        "### Measure correlation of closing prices \n",
        "\n",
        "We calculate [Pearson correlation](https://en.wikipedia.org/wiki/Pearson_correlation_coefficient)\n",
        "between closing prices of BTC, ETH and LTC. \n",
        "Pearson correlation is a measure of the linear correlation between two variables X and Y. \n",
        "It has a value between +1 and −1, where 1 is total positive linear correlation, 0 is no linear correlation, and −1 is total negative linear correlation.\n",
        "\n",
        "[Sifr Data](https://www.sifrdata.com/cryptocurrency-correlation-matrix/) daily updates Pearson correlations for many cryptocurrencies.\n",
        "\n",
        "**Observations**\n",
        "- Corelation matrix is symetric so we only show the lower half. \n",
        "- BTC, ETH and LTC were highly correlated in past 2 months. This means, when BTC closing price increased, ETH and LTC followed. \n",
        "- ETH and LTC were even more correlated with 0.9565 Pearson correlation coefficient."
      ]
    },
    {
      "cell_type": "code",
      "execution_count": 49,
      "metadata": {
        "colab": {
          "base_uri": "https://localhost:8080/",
          "height": 664
        },
        "id": "agMPsgp0Tbum",
        "outputId": "52e43d41-4d9f-4063-aad6-e11b6b7f0968"
      },
      "outputs": [
        {
          "output_type": "stream",
          "name": "stderr",
          "text": [
            "/usr/local/lib/python3.7/dist-packages/ipykernel_launcher.py:8: DeprecationWarning: `np.bool` is a deprecated alias for the builtin `bool`. To silence this warning, use `bool` by itself. Doing this will not modify any behavior and is safe. If you specifically wanted the numpy scalar type, use `np.bool_` here.\n",
            "Deprecated in NumPy 1.20; for more details and guidance: https://numpy.org/devdocs/release/1.20.0-notes.html#deprecations\n",
            "  \n"
          ]
        },
        {
          "output_type": "execute_result",
          "data": {
            "text/plain": [
              "<matplotlib.axes._subplots.AxesSubplot at 0x7fecd3bb4250>"
            ]
          },
          "metadata": {},
          "execution_count": 49
        },
        {
          "output_type": "display_data",
          "data": {
            "text/plain": [
              "<Figure size 720x720 with 2 Axes>"
            ],
            "image/png": "[encoded data removed]"
          },
          "metadata": {
            "needs_background": "light"
          }
        }
      ],
      "source": [
        "import seaborn as sns\n",
        "import matplotlib.pyplot as plt\n",
        "\n",
        "# Compute the correlation matrix\n",
        "corr = df.corr()\n",
        "\n",
        "# Generate a mask for the upper triangle\n",
        "mask = np.zeros_like(corr, dtype=np.bool)\n",
        "mask[np.triu_indices_from(mask)] = True\n",
        "\n",
        "# Set up the matplotlib figure\n",
        "f, ax = plt.subplots(figsize=(10, 10))\n",
        "\n",
        "# Draw the heatmap with the mask and correct aspect ratio\n",
        "sns.heatmap(corr, annot=True, fmt = '.4f', mask=mask, center=0, square=True, linewidths=.5)"
      ]
    },
    {
      "cell_type": "markdown",
      "metadata": {
        "id": "JP9t-W7PTbum"
      },
      "source": [
        "## Buy and hold strategy\n",
        "\n",
        "[Buy and hold](https://www.investopedia.com/terms/b/buyandhold.asp) is a passive investment strategy in which an investor buys a cryptocurrency and holds it for a long period of time, regardless of fluctuations in the market. \n",
        "\n",
        "Let's analyze returns using buy and hold strategy for past 2.7 months. \n",
        "We calculate the return percentage, where $t$ represents a certain time period and $price_0$ is initial closing price:\n",
        "\n",
        "$$\n",
        "return_{t, 0} = \\frac{price_t}{price_0}\n",
        "$$"
      ]
    },
    {
      "cell_type": "code",
      "execution_count": 50,
      "metadata": {
        "colab": {
          "base_uri": "https://localhost:8080/",
          "height": 237
        },
        "id": "pgdoKvAhTbum",
        "outputId": "c1d5989d-ad1d-4a40-f9a1-22fa2e2a3b15"
      },
      "outputs": [
        {
          "output_type": "execute_result",
          "data": {
            "text/plain": [
              "                          BTC       ETH       LTC\n",
              "datetime                                         \n",
              "2017-10-02 08:00:00  1.000000  1.000000  1.000000\n",
              "2017-10-02 09:00:00  1.003516  1.001560  1.001279\n",
              "2017-10-02 10:00:00  1.002873  1.001925  0.998355\n",
              "2017-10-02 11:00:00  0.988909  0.995520  0.987025\n",
              "2017-10-02 12:00:00  0.985198  0.987192  0.981542"
            ],
            "text/html": [
              "\n",
              "  <div id=\"df-229789e8-a7d0-4495-82c0-65f8c89c2631\">\n",
              "    <div class=\"colab-df-container\">\n",
              "      <div>\n",
              "<style scoped>\n",
              "    .dataframe tbody tr th:only-of-type {\n",
              "        vertical-align: middle;\n",
              "    }\n",
              "\n",
              "    .dataframe tbody tr th {\n",
              "        vertical-align: top;\n",
              "    }\n",
              "\n",
              "    .dataframe thead th {\n",
              "        text-align: right;\n",
              "    }\n",
              "</style>\n",
              "<table border=\"1\" class=\"dataframe\">\n",
              "  <thead>\n",
              "    <tr style=\"text-align: right;\">\n",
              "      <th></th>\n",
              "      <th>BTC</th>\n",
              "      <th>ETH</th>\n",
              "      <th>LTC</th>\n",
              "    </tr>\n",
              "    <tr>\n",
              "      <th>datetime</th>\n",
              "      <th></th>\n",
              "      <th></th>\n",
              "      <th></th>\n",
              "    </tr>\n",
              "  </thead>\n",
              "  <tbody>\n",
              "    <tr>\n",
              "      <th>2017-10-02 08:00:00</th>\n",
              "      <td>1.000000</td>\n",
              "      <td>1.000000</td>\n",
              "      <td>1.000000</td>\n",
              "    </tr>\n",
              "    <tr>\n",
              "      <th>2017-10-02 09:00:00</th>\n",
              "      <td>1.003516</td>\n",
              "      <td>1.001560</td>\n",
              "      <td>1.001279</td>\n",
              "    </tr>\n",
              "    <tr>\n",
              "      <th>2017-10-02 10:00:00</th>\n",
              "      <td>1.002873</td>\n",
              "      <td>1.001925</td>\n",
              "      <td>0.998355</td>\n",
              "    </tr>\n",
              "    <tr>\n",
              "      <th>2017-10-02 11:00:00</th>\n",
              "      <td>0.988909</td>\n",
              "      <td>0.995520</td>\n",
              "      <td>0.987025</td>\n",
              "    </tr>\n",
              "    <tr>\n",
              "      <th>2017-10-02 12:00:00</th>\n",
              "      <td>0.985198</td>\n",
              "      <td>0.987192</td>\n",
              "      <td>0.981542</td>\n",
              "    </tr>\n",
              "  </tbody>\n",
              "</table>\n",
              "</div>\n",
              "      <button class=\"colab-df-convert\" onclick=\"convertToInteractive('df-229789e8-a7d0-4495-82c0-65f8c89c2631')\"\n",
              "              title=\"Convert this dataframe to an interactive table.\"\n",
              "              style=\"display:none;\">\n",
              "        \n",
              "  <svg xmlns=\"http://www.w3.org/2000/svg\" height=\"24px\"viewBox=\"0 0 24 24\"\n",
              "       width=\"24px\">\n",
              "    <path d=\"M0 0h24v24H0V0z\" fill=\"none\"/>\n",
              "    <path d=\"M18.56 5.44l.94 2.06.94-2.06 2.06-.94-2.06-.94-.94-2.06-.94 2.06-2.06.94zm-11 1L8.5 8.5l.94-2.06 2.06-.94-2.06-.94L8.5 2.5l-.94 2.06-2.06.94zm10 10l.94 2.06.94-2.06 2.06-.94-2.06-.94-.94-2.06-.94 2.06-2.06.94z\"/><path d=\"M17.41 7.96l-1.37-1.37c-.4-.4-.92-.59-1.43-.59-.52 0-1.04.2-1.43.59L10.3 9.45l-7.72 7.72c-.78.78-.78 2.05 0 2.83L4 21.41c.39.39.9.59 1.41.59.51 0 1.02-.2 1.41-.59l7.78-7.78 2.81-2.81c.8-.78.8-2.07 0-2.86zM5.41 20L4 18.59l7.72-7.72 1.47 1.35L5.41 20z\"/>\n",
              "  </svg>\n",
              "      </button>\n",
              "      \n",
              "  <style>\n",
              "    .colab-df-container {\n",
              "      display:flex;\n",
              "      flex-wrap:wrap;\n",
              "      gap: 12px;\n",
              "    }\n",
              "\n",
              "    .colab-df-convert {\n",
              "      background-color: #E8F0FE;\n",
              "      border: none;\n",
              "      border-radius: 50%;\n",
              "      cursor: pointer;\n",
              "      display: none;\n",
              "      fill: #1967D2;\n",
              "      height: 32px;\n",
              "      padding: 0 0 0 0;\n",
              "      width: 32px;\n",
              "    }\n",
              "\n",
              "    .colab-df-convert:hover {\n",
              "      background-color: #E2EBFA;\n",
              "      box-shadow: 0px 1px 2px rgba(60, 64, 67, 0.3), 0px 1px 3px 1px rgba(60, 64, 67, 0.15);\n",
              "      fill: #174EA6;\n",
              "    }\n",
              "\n",
              "    [theme=dark] .colab-df-convert {\n",
              "      background-color: #3B4455;\n",
              "      fill: #D2E3FC;\n",
              "    }\n",
              "\n",
              "    [theme=dark] .colab-df-convert:hover {\n",
              "      background-color: #434B5C;\n",
              "      box-shadow: 0px 1px 3px 1px rgba(0, 0, 0, 0.15);\n",
              "      filter: drop-shadow(0px 1px 2px rgba(0, 0, 0, 0.3));\n",
              "      fill: #FFFFFF;\n",
              "    }\n",
              "  </style>\n",
              "\n",
              "      <script>\n",
              "        const buttonEl =\n",
              "          document.querySelector('#df-229789e8-a7d0-4495-82c0-65f8c89c2631 button.colab-df-convert');\n",
              "        buttonEl.style.display =\n",
              "          google.colab.kernel.accessAllowed ? 'block' : 'none';\n",
              "\n",
              "        async function convertToInteractive(key) {\n",
              "          const element = document.querySelector('#df-229789e8-a7d0-4495-82c0-65f8c89c2631');\n",
              "          const dataTable =\n",
              "            await google.colab.kernel.invokeFunction('convertToInteractive',\n",
              "                                                     [key], {});\n",
              "          if (!dataTable) return;\n",
              "\n",
              "          const docLinkHtml = 'Like what you see? Visit the ' +\n",
              "            '<a target=\"_blank\" href=https://colab.research.google.com/notebooks/data_table.ipynb>data table notebook</a>'\n",
              "            + ' to learn more about interactive tables.';\n",
              "          element.innerHTML = '';\n",
              "          dataTable['output_type'] = 'display_data';\n",
              "          await google.colab.output.renderOutput(dataTable, element);\n",
              "          const docLink = document.createElement('div');\n",
              "          docLink.innerHTML = docLinkHtml;\n",
              "          element.appendChild(docLink);\n",
              "        }\n",
              "      </script>\n",
              "    </div>\n",
              "  </div>\n",
              "  "
            ]
          },
          "metadata": {},
          "execution_count": 50
        }
      ],
      "source": [
        "df_return = df.apply(lambda x: x / x[0])\n",
        "df_return.head()"
      ]
    },
    {
      "cell_type": "markdown",
      "metadata": {
        "id": "UJgIHwETTbum"
      },
      "source": [
        "### Visualize returns\n",
        "\n",
        "We show that LTC was the most profitable for time period between October 2, 2017 and December 24, 2017."
      ]
    },
    {
      "cell_type": "code",
      "execution_count": 51,
      "metadata": {
        "colab": {
          "base_uri": "https://localhost:8080/",
          "height": 657
        },
        "id": "LHVp0MzmTbum",
        "outputId": "ca786a29-7062-40c0-b19e-5571a65885c0"
      },
      "outputs": [
        {
          "output_type": "execute_result",
          "data": {
            "text/plain": [
              "<matplotlib.lines.Line2D at 0x7fecd377f4d0>"
            ]
          },
          "metadata": {},
          "execution_count": 51
        },
        {
          "output_type": "display_data",
          "data": {
            "text/plain": [
              "<Figure size 1080x720 with 1 Axes>"
            ],
            "image/png": "[encoded data removed]"
          },
          "metadata": {
            "needs_background": "light"
          }
        }
      ],
      "source": [
        "df_return.plot(grid=True, figsize=(15, 10)).axhline(y = 1, color = \"black\", lw = 2)"
      ]
    },
    {
      "cell_type": "markdown",
      "metadata": {
        "id": "hH414FGOTbum"
      },
      "source": [
        "## Conclusion\n",
        "\n",
        "The cryptocurrencies we analyzed fluctuated a lot but all of gained in given 2.7 months period."
      ]
    },
    {
      "cell_type": "markdown",
      "metadata": {
        "id": "pPXoH76JTbun"
      },
      "source": [
        "### What is the percentage increase?"
      ]
    },
    {
      "cell_type": "code",
      "execution_count": 52,
      "metadata": {
        "colab": {
          "base_uri": "https://localhost:8080/",
          "height": 360
        },
        "id": "21yJQ4P3Tbun",
        "outputId": "f037a3dc-a486-4d18-b261-9a51af5427fc"
      },
      "outputs": [
        {
          "output_type": "execute_result",
          "data": {
            "text/plain": [
              "                            BTC         ETH         LTC\n",
              "datetime                                               \n",
              "2017-12-24 16:00:00  314.688065  226.900488  501.407164"
            ],
            "text/html": [
              "\n",
              "  <div id=\"df-887eab45-7615-4017-a810-0d6b9d0bb490\">\n",
              "    <div class=\"colab-df-container\">\n",
              "      <div>\n",
              "<style scoped>\n",
              "    .dataframe tbody tr th:only-of-type {\n",
              "        vertical-align: middle;\n",
              "    }\n",
              "\n",
              "    .dataframe tbody tr th {\n",
              "        vertical-align: top;\n",
              "    }\n",
              "\n",
              "    .dataframe thead th {\n",
              "        text-align: right;\n",
              "    }\n",
              "</style>\n",
              "<table border=\"1\" class=\"dataframe\">\n",
              "  <thead>\n",
              "    <tr style=\"text-align: right;\">\n",
              "      <th></th>\n",
              "      <th>BTC</th>\n",
              "      <th>ETH</th>\n",
              "      <th>LTC</th>\n",
              "    </tr>\n",
              "    <tr>\n",
              "      <th>datetime</th>\n",
              "      <th></th>\n",
              "      <th></th>\n",
              "      <th></th>\n",
              "    </tr>\n",
              "  </thead>\n",
              "  <tbody>\n",
              "    <tr>\n",
              "      <th>2017-12-24 16:00:00</th>\n",
              "      <td>314.688065</td>\n",
              "      <td>226.900488</td>\n",
              "      <td>501.407164</td>\n",
              "    </tr>\n",
              "  </tbody>\n",
              "</table>\n",
              "</div>\n",
              "      <button class=\"colab-df-convert\" onclick=\"convertToInteractive('df-887eab45-7615-4017-a810-0d6b9d0bb490')\"\n",
              "              title=\"Convert this dataframe to an interactive table.\"\n",
              "              style=\"display:none;\">\n",
              "        \n",
              "  <svg xmlns=\"http://www.w3.org/2000/svg\" height=\"24px\"viewBox=\"0 0 24 24\"\n",
              "       width=\"24px\">\n",
              "    <path d=\"M0 0h24v24H0V0z\" fill=\"none\"/>\n",
              "    <path d=\"M18.56 5.44l.94 2.06.94-2.06 2.06-.94-2.06-.94-.94-2.06-.94 2.06-2.06.94zm-11 1L8.5 8.5l.94-2.06 2.06-.94-2.06-.94L8.5 2.5l-.94 2.06-2.06.94zm10 10l.94 2.06.94-2.06 2.06-.94-2.06-.94-.94-2.06-.94 2.06-2.06.94z\"/><path d=\"M17.41 7.96l-1.37-1.37c-.4-.4-.92-.59-1.43-.59-.52 0-1.04.2-1.43.59L10.3 9.45l-7.72 7.72c-.78.78-.78 2.05 0 2.83L4 21.41c.39.39.9.59 1.41.59.51 0 1.02-.2 1.41-.59l7.78-7.78 2.81-2.81c.8-.78.8-2.07 0-2.86zM5.41 20L4 18.59l7.72-7.72 1.47 1.35L5.41 20z\"/>\n",
              "  </svg>\n",
              "      </button>\n",
              "      \n",
              "  <style>\n",
              "    .colab-df-container {\n",
              "      display:flex;\n",
              "      flex-wrap:wrap;\n",
              "      gap: 12px;\n",
              "    }\n",
              "\n",
              "    .colab-df-convert {\n",
              "      background-color: #E8F0FE;\n",
              "      border: none;\n",
              "      border-radius: 50%;\n",
              "      cursor: pointer;\n",
              "      display: none;\n",
              "      fill: #1967D2;\n",
              "      height: 32px;\n",
              "      padding: 0 0 0 0;\n",
              "      width: 32px;\n",
              "    }\n",
              "\n",
              "    .colab-df-convert:hover {\n",
              "      background-color: #E2EBFA;\n",
              "      box-shadow: 0px 1px 2px rgba(60, 64, 67, 0.3), 0px 1px 3px 1px rgba(60, 64, 67, 0.15);\n",
              "      fill: #174EA6;\n",
              "    }\n",
              "\n",
              "    [theme=dark] .colab-df-convert {\n",
              "      background-color: #3B4455;\n",
              "      fill: #D2E3FC;\n",
              "    }\n",
              "\n",
              "    [theme=dark] .colab-df-convert:hover {\n",
              "      background-color: #434B5C;\n",
              "      box-shadow: 0px 1px 3px 1px rgba(0, 0, 0, 0.15);\n",
              "      filter: drop-shadow(0px 1px 2px rgba(0, 0, 0, 0.3));\n",
              "      fill: #FFFFFF;\n",
              "    }\n",
              "  </style>\n",
              "\n",
              "      <script>\n",
              "        const buttonEl =\n",
              "          document.querySelector('#df-887eab45-7615-4017-a810-0d6b9d0bb490 button.colab-df-convert');\n",
              "        buttonEl.style.display =\n",
              "          google.colab.kernel.accessAllowed ? 'block' : 'none';\n",
              "\n",
              "        async function convertToInteractive(key) {\n",
              "          const element = document.querySelector('#df-887eab45-7615-4017-a810-0d6b9d0bb490');\n",
              "          const dataTable =\n",
              "            await google.colab.kernel.invokeFunction('convertToInteractive',\n",
              "                                                     [key], {});\n",
              "          if (!dataTable) return;\n",
              "\n",
              "          const docLinkHtml = 'Like what you see? Visit the ' +\n",
              "            '<a target=\"_blank\" href=https://colab.research.google.com/notebooks/data_table.ipynb>data table notebook</a>'\n",
              "            + ' to learn more about interactive tables.';\n",
              "          element.innerHTML = '';\n",
              "          dataTable['output_type'] = 'display_data';\n",
              "          await google.colab.output.renderOutput(dataTable, element);\n",
              "          const docLink = document.createElement('div');\n",
              "          docLink.innerHTML = docLinkHtml;\n",
              "          element.appendChild(docLink);\n",
              "        }\n",
              "      </script>\n",
              "    </div>\n",
              "  </div>\n",
              "  "
            ]
          },
          "metadata": {},
          "execution_count": 52
        },
        {
          "output_type": "display_data",
          "data": {
            "text/plain": [
              "<Figure size 432x288 with 1 Axes>"
            ],
            "image/png": "[encoded data removed]"
          },
          "metadata": {
            "needs_background": "light"
          }
        }
      ],
      "source": [
        "df_perc = df_return.tail(1) * 100\n",
        "ax = sns.barplot(data=df_perc)\n",
        "df_perc"
      ]
    },
    {
      "cell_type": "markdown",
      "metadata": {
        "id": "aJdCX9gvTbun"
      },
      "source": [
        "### How many coins could we bought for $1000?"
      ]
    },
    {
      "cell_type": "code",
      "execution_count": 53,
      "metadata": {
        "colab": {
          "base_uri": "https://localhost:8080/",
          "height": 360
        },
        "id": "c04QVoSHTbun",
        "outputId": "803d9c59-f7ae-446b-869a-5af2d511b3ab"
      },
      "outputs": [
        {
          "output_type": "execute_result",
          "data": {
            "text/plain": [
              "                          BTC      ETH        LTC\n",
              "datetime                                         \n",
              "2017-10-02 08:00:00  0.224777  3.31818  18.274854"
            ],
            "text/html": [
              "\n",
              "  <div id=\"df-aa4efc0f-ab77-4149-b405-38e351e24d85\">\n",
              "    <div class=\"colab-df-container\">\n",
              "      <div>\n",
              "<style scoped>\n",
              "    .dataframe tbody tr th:only-of-type {\n",
              "        vertical-align: middle;\n",
              "    }\n",
              "\n",
              "    .dataframe tbody tr th {\n",
              "        vertical-align: top;\n",
              "    }\n",
              "\n",
              "    .dataframe thead th {\n",
              "        text-align: right;\n",
              "    }\n",
              "</style>\n",
              "<table border=\"1\" class=\"dataframe\">\n",
              "  <thead>\n",
              "    <tr style=\"text-align: right;\">\n",
              "      <th></th>\n",
              "      <th>BTC</th>\n",
              "      <th>ETH</th>\n",
              "      <th>LTC</th>\n",
              "    </tr>\n",
              "    <tr>\n",
              "      <th>datetime</th>\n",
              "      <th></th>\n",
              "      <th></th>\n",
              "      <th></th>\n",
              "    </tr>\n",
              "  </thead>\n",
              "  <tbody>\n",
              "    <tr>\n",
              "      <th>2017-10-02 08:00:00</th>\n",
              "      <td>0.224777</td>\n",
              "      <td>3.31818</td>\n",
              "      <td>18.274854</td>\n",
              "    </tr>\n",
              "  </tbody>\n",
              "</table>\n",
              "</div>\n",
              "      <button class=\"colab-df-convert\" onclick=\"convertToInteractive('df-aa4efc0f-ab77-4149-b405-38e351e24d85')\"\n",
              "              title=\"Convert this dataframe to an interactive table.\"\n",
              "              style=\"display:none;\">\n",
              "        \n",
              "  <svg xmlns=\"http://www.w3.org/2000/svg\" height=\"24px\"viewBox=\"0 0 24 24\"\n",
              "       width=\"24px\">\n",
              "    <path d=\"M0 0h24v24H0V0z\" fill=\"none\"/>\n",
              "    <path d=\"M18.56 5.44l.94 2.06.94-2.06 2.06-.94-2.06-.94-.94-2.06-.94 2.06-2.06.94zm-11 1L8.5 8.5l.94-2.06 2.06-.94-2.06-.94L8.5 2.5l-.94 2.06-2.06.94zm10 10l.94 2.06.94-2.06 2.06-.94-2.06-.94-.94-2.06-.94 2.06-2.06.94z\"/><path d=\"M17.41 7.96l-1.37-1.37c-.4-.4-.92-.59-1.43-.59-.52 0-1.04.2-1.43.59L10.3 9.45l-7.72 7.72c-.78.78-.78 2.05 0 2.83L4 21.41c.39.39.9.59 1.41.59.51 0 1.02-.2 1.41-.59l7.78-7.78 2.81-2.81c.8-.78.8-2.07 0-2.86zM5.41 20L4 18.59l7.72-7.72 1.47 1.35L5.41 20z\"/>\n",
              "  </svg>\n",
              "      </button>\n",
              "      \n",
              "  <style>\n",
              "    .colab-df-container {\n",
              "      display:flex;\n",
              "      flex-wrap:wrap;\n",
              "      gap: 12px;\n",
              "    }\n",
              "\n",
              "    .colab-df-convert {\n",
              "      background-color: #E8F0FE;\n",
              "      border: none;\n",
              "      border-radius: 50%;\n",
              "      cursor: pointer;\n",
              "      display: none;\n",
              "      fill: #1967D2;\n",
              "      height: 32px;\n",
              "      padding: 0 0 0 0;\n",
              "      width: 32px;\n",
              "    }\n",
              "\n",
              "    .colab-df-convert:hover {\n",
              "      background-color: #E2EBFA;\n",
              "      box-shadow: 0px 1px 2px rgba(60, 64, 67, 0.3), 0px 1px 3px 1px rgba(60, 64, 67, 0.15);\n",
              "      fill: #174EA6;\n",
              "    }\n",
              "\n",
              "    [theme=dark] .colab-df-convert {\n",
              "      background-color: #3B4455;\n",
              "      fill: #D2E3FC;\n",
              "    }\n",
              "\n",
              "    [theme=dark] .colab-df-convert:hover {\n",
              "      background-color: #434B5C;\n",
              "      box-shadow: 0px 1px 3px 1px rgba(0, 0, 0, 0.15);\n",
              "      filter: drop-shadow(0px 1px 2px rgba(0, 0, 0, 0.3));\n",
              "      fill: #FFFFFF;\n",
              "    }\n",
              "  </style>\n",
              "\n",
              "      <script>\n",
              "        const buttonEl =\n",
              "          document.querySelector('#df-aa4efc0f-ab77-4149-b405-38e351e24d85 button.colab-df-convert');\n",
              "        buttonEl.style.display =\n",
              "          google.colab.kernel.accessAllowed ? 'block' : 'none';\n",
              "\n",
              "        async function convertToInteractive(key) {\n",
              "          const element = document.querySelector('#df-aa4efc0f-ab77-4149-b405-38e351e24d85');\n",
              "          const dataTable =\n",
              "            await google.colab.kernel.invokeFunction('convertToInteractive',\n",
              "                                                     [key], {});\n",
              "          if (!dataTable) return;\n",
              "\n",
              "          const docLinkHtml = 'Like what you see? Visit the ' +\n",
              "            '<a target=\"_blank\" href=https://colab.research.google.com/notebooks/data_table.ipynb>data table notebook</a>'\n",
              "            + ' to learn more about interactive tables.';\n",
              "          element.innerHTML = '';\n",
              "          dataTable['output_type'] = 'display_data';\n",
              "          await google.colab.output.renderOutput(dataTable, element);\n",
              "          const docLink = document.createElement('div');\n",
              "          docLink.innerHTML = docLinkHtml;\n",
              "          element.appendChild(docLink);\n",
              "        }\n",
              "      </script>\n",
              "    </div>\n",
              "  </div>\n",
              "  "
            ]
          },
          "metadata": {},
          "execution_count": 53
        },
        {
          "output_type": "display_data",
          "data": {
            "text/plain": [
              "<Figure size 432x288 with 1 Axes>"
            ],
            "image/png": "[encoded data removed]"
          },
          "metadata": {
            "needs_background": "light"
          }
        }
      ],
      "source": [
        "budget = 1000 # USD\n",
        "df_coins = budget/df.head(1)\n",
        "\n",
        "ax = sns.barplot(data=df_coins)\n",
        "df_coins"
      ]
    },
    {
      "cell_type": "markdown",
      "metadata": {
        "id": "1N3O9B91Tbun"
      },
      "source": [
        "### How much money would we make?"
      ]
    },
    {
      "cell_type": "code",
      "execution_count": 54,
      "metadata": {
        "colab": {
          "base_uri": "https://localhost:8080/",
          "height": 360
        },
        "id": "gRKSW77DTbun",
        "outputId": "38a3a286-24a3-4e8f-a9cf-ef0850861b6a"
      },
      "outputs": [
        {
          "output_type": "execute_result",
          "data": {
            "text/plain": [
              "                             BTC          ETH          LTC\n",
              "datetime                                                  \n",
              "2017-12-24 16:00:00  3146.880655  2269.004878  5014.071637"
            ],
            "text/html": [
              "\n",
              "  <div id=\"df-fb2b4137-b2a8-4588-bcb2-d5f8ec94ed2b\">\n",
              "    <div class=\"colab-df-container\">\n",
              "      <div>\n",
              "<style scoped>\n",
              "    .dataframe tbody tr th:only-of-type {\n",
              "        vertical-align: middle;\n",
              "    }\n",
              "\n",
              "    .dataframe tbody tr th {\n",
              "        vertical-align: top;\n",
              "    }\n",
              "\n",
              "    .dataframe thead th {\n",
              "        text-align: right;\n",
              "    }\n",
              "</style>\n",
              "<table border=\"1\" class=\"dataframe\">\n",
              "  <thead>\n",
              "    <tr style=\"text-align: right;\">\n",
              "      <th></th>\n",
              "      <th>BTC</th>\n",
              "      <th>ETH</th>\n",
              "      <th>LTC</th>\n",
              "    </tr>\n",
              "    <tr>\n",
              "      <th>datetime</th>\n",
              "      <th></th>\n",
              "      <th></th>\n",
              "      <th></th>\n",
              "    </tr>\n",
              "  </thead>\n",
              "  <tbody>\n",
              "    <tr>\n",
              "      <th>2017-12-24 16:00:00</th>\n",
              "      <td>3146.880655</td>\n",
              "      <td>2269.004878</td>\n",
              "      <td>5014.071637</td>\n",
              "    </tr>\n",
              "  </tbody>\n",
              "</table>\n",
              "</div>\n",
              "      <button class=\"colab-df-convert\" onclick=\"convertToInteractive('df-fb2b4137-b2a8-4588-bcb2-d5f8ec94ed2b')\"\n",
              "              title=\"Convert this dataframe to an interactive table.\"\n",
              "              style=\"display:none;\">\n",
              "        \n",
              "  <svg xmlns=\"http://www.w3.org/2000/svg\" height=\"24px\"viewBox=\"0 0 24 24\"\n",
              "       width=\"24px\">\n",
              "    <path d=\"M0 0h24v24H0V0z\" fill=\"none\"/>\n",
              "    <path d=\"M18.56 5.44l.94 2.06.94-2.06 2.06-.94-2.06-.94-.94-2.06-.94 2.06-2.06.94zm-11 1L8.5 8.5l.94-2.06 2.06-.94-2.06-.94L8.5 2.5l-.94 2.06-2.06.94zm10 10l.94 2.06.94-2.06 2.06-.94-2.06-.94-.94-2.06-.94 2.06-2.06.94z\"/><path d=\"M17.41 7.96l-1.37-1.37c-.4-.4-.92-.59-1.43-.59-.52 0-1.04.2-1.43.59L10.3 9.45l-7.72 7.72c-.78.78-.78 2.05 0 2.83L4 21.41c.39.39.9.59 1.41.59.51 0 1.02-.2 1.41-.59l7.78-7.78 2.81-2.81c.8-.78.8-2.07 0-2.86zM5.41 20L4 18.59l7.72-7.72 1.47 1.35L5.41 20z\"/>\n",
              "  </svg>\n",
              "      </button>\n",
              "      \n",
              "  <style>\n",
              "    .colab-df-container {\n",
              "      display:flex;\n",
              "      flex-wrap:wrap;\n",
              "      gap: 12px;\n",
              "    }\n",
              "\n",
              "    .colab-df-convert {\n",
              "      background-color: #E8F0FE;\n",
              "      border: none;\n",
              "      border-radius: 50%;\n",
              "      cursor: pointer;\n",
              "      display: none;\n",
              "      fill: #1967D2;\n",
              "      height: 32px;\n",
              "      padding: 0 0 0 0;\n",
              "      width: 32px;\n",
              "    }\n",
              "\n",
              "    .colab-df-convert:hover {\n",
              "      background-color: #E2EBFA;\n",
              "      box-shadow: 0px 1px 2px rgba(60, 64, 67, 0.3), 0px 1px 3px 1px rgba(60, 64, 67, 0.15);\n",
              "      fill: #174EA6;\n",
              "    }\n",
              "\n",
              "    [theme=dark] .colab-df-convert {\n",
              "      background-color: #3B4455;\n",
              "      fill: #D2E3FC;\n",
              "    }\n",
              "\n",
              "    [theme=dark] .colab-df-convert:hover {\n",
              "      background-color: #434B5C;\n",
              "      box-shadow: 0px 1px 3px 1px rgba(0, 0, 0, 0.15);\n",
              "      filter: drop-shadow(0px 1px 2px rgba(0, 0, 0, 0.3));\n",
              "      fill: #FFFFFF;\n",
              "    }\n",
              "  </style>\n",
              "\n",
              "      <script>\n",
              "        const buttonEl =\n",
              "          document.querySelector('#df-fb2b4137-b2a8-4588-bcb2-d5f8ec94ed2b button.colab-df-convert');\n",
              "        buttonEl.style.display =\n",
              "          google.colab.kernel.accessAllowed ? 'block' : 'none';\n",
              "\n",
              "        async function convertToInteractive(key) {\n",
              "          const element = document.querySelector('#df-fb2b4137-b2a8-4588-bcb2-d5f8ec94ed2b');\n",
              "          const dataTable =\n",
              "            await google.colab.kernel.invokeFunction('convertToInteractive',\n",
              "                                                     [key], {});\n",
              "          if (!dataTable) return;\n",
              "\n",
              "          const docLinkHtml = 'Like what you see? Visit the ' +\n",
              "            '<a target=\"_blank\" href=https://colab.research.google.com/notebooks/data_table.ipynb>data table notebook</a>'\n",
              "            + ' to learn more about interactive tables.';\n",
              "          element.innerHTML = '';\n",
              "          dataTable['output_type'] = 'display_data';\n",
              "          await google.colab.output.renderOutput(dataTable, element);\n",
              "          const docLink = document.createElement('div');\n",
              "          docLink.innerHTML = docLinkHtml;\n",
              "          element.appendChild(docLink);\n",
              "        }\n",
              "      </script>\n",
              "    </div>\n",
              "  </div>\n",
              "  "
            ]
          },
          "metadata": {},
          "execution_count": 54
        },
        {
          "output_type": "display_data",
          "data": {
            "text/plain": [
              "<Figure size 432x288 with 1 Axes>"
            ],
            "image/png": "[encoded data removed]"
          },
          "metadata": {
            "needs_background": "light"
          }
        }
      ],
      "source": [
        "df_profit = df_return.tail(1) * budget\n",
        "\n",
        "ax = sns.barplot(data=df_profit)\n",
        "df_profit"
      ]
    },
    {
      "cell_type": "markdown",
      "metadata": {
        "id": "BWe-GyaLTbun"
      },
      "source": [
        "# Cryptocurrency Analysis with Python - Log Returns\n",
        "\n",
        "In [previous post]({{site.url}}/cryptocurrency/analysis/2017/12/25/cryptocurrency-analysis-with-python-part2.html), we analyzed raw price changes of cryptocurrencies. The problem with that approach is that prices of different cryptocurrencies are not normalized and we cannot use comparable metrics. \n",
        "\n",
        "In this post, we describe benefits of using log returns for analysis of price changes. You can download this [Jupyter Notebook]({{site.url}}/assets/notebooks/2017-12-29-cryptocurrency-analysis-with-python-part3.ipynb) and the [data]({{site.url}}/assets/data/). \n",
        "\n",
        "Follow me on [twitter](https://twitter.com/romanorac) to get latest updates.\n",
        "\n",
        "![]({{site.url}}/assets/images/2017-12-29-cryptocurrency-analysis-with-python-part3/log_returns.png \"Bitcoin, Ethereum, and Litecoin Log returns\")"
      ]
    },
    {
      "cell_type": "markdown",
      "metadata": {
        "id": "12-tBhU8Tbuo"
      },
      "source": [
        "## Disclaimer\n",
        "<span style=\"color:red\">\n",
        "**I am not a trader and this blog post is not a financial advice. This is purely introductory knowledge.\n",
        "The conclusion here can be misleading as \n",
        "I analyze the time period with immense growth. **\n",
        "</span>"
      ]
    },
    {
      "cell_type": "markdown",
      "metadata": {
        "id": "hyPTiogiTbuo"
      },
      "source": [
        "## Requirements\n",
        "\n",
        "- [SciPy - scientific and numerical tools for Python](https://www.scipy.org/)\n",
        "\n",
        "For other requirements, see my\n",
        "[first blog post]({{site.url}}/cryptocurrency/analysis/2017/12/17/cryptocurrency-analysis-with-python-part1.html)\n",
        "of this series."
      ]
    },
    {
      "cell_type": "markdown",
      "metadata": {
        "id": "8_fFKlPhTbuo"
      },
      "source": [
        "## Load the data"
      ]
    },
    {
      "cell_type": "code",
      "execution_count": 55,
      "metadata": {
        "id": "yibSk0z9Tbuo"
      },
      "outputs": [],
      "source": [
        "import pandas as pd\n",
        "\n",
        "df_btc = pd.read_csv('BTC_USD_Coinbase_hour_2017-12-24.csv', index_col='datetime')\n",
        "df_eth = pd.read_csv('ETH_USD_Coinbase_hour_2017-12-24.csv', index_col='datetime')\n",
        "df_ltc = pd.read_csv('LTC_USD_Coinbase_hour_2017-12-24.csv', index_col='datetime')"
      ]
    },
    {
      "cell_type": "code",
      "execution_count": 56,
      "metadata": {
        "id": "7cPr_LCNTbuo"
      },
      "outputs": [],
      "source": [
        "df = pd.DataFrame({'BTC': df_btc.close,\n",
        "                   'ETH': df_eth.close,\n",
        "                   'LTC': df_ltc.close})\n",
        "df.index = df.index.map(pd.to_datetime)\n",
        "df = df.sort_index()"
      ]
    },
    {
      "cell_type": "code",
      "execution_count": 57,
      "metadata": {
        "colab": {
          "base_uri": "https://localhost:8080/",
          "height": 237
        },
        "id": "Jati5CkZTbuo",
        "outputId": "027365c3-78e7-4252-c386-1d73a36e943b"
      },
      "outputs": [
        {
          "output_type": "execute_result",
          "data": {
            "text/plain": [
              "                         BTC     ETH    LTC\n",
              "datetime                                   \n",
              "2017-10-02 08:00:00  4448.85  301.37  54.72\n",
              "2017-10-02 09:00:00  4464.49  301.84  54.79\n",
              "2017-10-02 10:00:00  4461.63  301.95  54.63\n",
              "2017-10-02 11:00:00  4399.51  300.02  54.01\n",
              "2017-10-02 12:00:00  4383.00  297.51  53.71"
            ],
            "text/html": [
              "\n",
              "  <div id=\"df-c2b55680-d774-4858-a7e6-c4d3ff9d40f0\">\n",
              "    <div class=\"colab-df-container\">\n",
              "      <div>\n",
              "<style scoped>\n",
              "    .dataframe tbody tr th:only-of-type {\n",
              "        vertical-align: middle;\n",
              "    }\n",
              "\n",
              "    .dataframe tbody tr th {\n",
              "        vertical-align: top;\n",
              "    }\n",
              "\n",
              "    .dataframe thead th {\n",
              "        text-align: right;\n",
              "    }\n",
              "</style>\n",
              "<table border=\"1\" class=\"dataframe\">\n",
              "  <thead>\n",
              "    <tr style=\"text-align: right;\">\n",
              "      <th></th>\n",
              "      <th>BTC</th>\n",
              "      <th>ETH</th>\n",
              "      <th>LTC</th>\n",
              "    </tr>\n",
              "    <tr>\n",
              "      <th>datetime</th>\n",
              "      <th></th>\n",
              "      <th></th>\n",
              "      <th></th>\n",
              "    </tr>\n",
              "  </thead>\n",
              "  <tbody>\n",
              "    <tr>\n",
              "      <th>2017-10-02 08:00:00</th>\n",
              "      <td>4448.85</td>\n",
              "      <td>301.37</td>\n",
              "      <td>54.72</td>\n",
              "    </tr>\n",
              "    <tr>\n",
              "      <th>2017-10-02 09:00:00</th>\n",
              "      <td>4464.49</td>\n",
              "      <td>301.84</td>\n",
              "      <td>54.79</td>\n",
              "    </tr>\n",
              "    <tr>\n",
              "      <th>2017-10-02 10:00:00</th>\n",
              "      <td>4461.63</td>\n",
              "      <td>301.95</td>\n",
              "      <td>54.63</td>\n",
              "    </tr>\n",
              "    <tr>\n",
              "      <th>2017-10-02 11:00:00</th>\n",
              "      <td>4399.51</td>\n",
              "      <td>300.02</td>\n",
              "      <td>54.01</td>\n",
              "    </tr>\n",
              "    <tr>\n",
              "      <th>2017-10-02 12:00:00</th>\n",
              "      <td>4383.00</td>\n",
              "      <td>297.51</td>\n",
              "      <td>53.71</td>\n",
              "    </tr>\n",
              "  </tbody>\n",
              "</table>\n",
              "</div>\n",
              "      <button class=\"colab-df-convert\" onclick=\"convertToInteractive('df-c2b55680-d774-4858-a7e6-c4d3ff9d40f0')\"\n",
              "              title=\"Convert this dataframe to an interactive table.\"\n",
              "              style=\"display:none;\">\n",
              "        \n",
              "  <svg xmlns=\"http://www.w3.org/2000/svg\" height=\"24px\"viewBox=\"0 0 24 24\"\n",
              "       width=\"24px\">\n",
              "    <path d=\"M0 0h24v24H0V0z\" fill=\"none\"/>\n",
              "    <path d=\"M18.56 5.44l.94 2.06.94-2.06 2.06-.94-2.06-.94-.94-2.06-.94 2.06-2.06.94zm-11 1L8.5 8.5l.94-2.06 2.06-.94-2.06-.94L8.5 2.5l-.94 2.06-2.06.94zm10 10l.94 2.06.94-2.06 2.06-.94-2.06-.94-.94-2.06-.94 2.06-2.06.94z\"/><path d=\"M17.41 7.96l-1.37-1.37c-.4-.4-.92-.59-1.43-.59-.52 0-1.04.2-1.43.59L10.3 9.45l-7.72 7.72c-.78.78-.78 2.05 0 2.83L4 21.41c.39.39.9.59 1.41.59.51 0 1.02-.2 1.41-.59l7.78-7.78 2.81-2.81c.8-.78.8-2.07 0-2.86zM5.41 20L4 18.59l7.72-7.72 1.47 1.35L5.41 20z\"/>\n",
              "  </svg>\n",
              "      </button>\n",
              "      \n",
              "  <style>\n",
              "    .colab-df-container {\n",
              "      display:flex;\n",
              "      flex-wrap:wrap;\n",
              "      gap: 12px;\n",
              "    }\n",
              "\n",
              "    .colab-df-convert {\n",
              "      background-color: #E8F0FE;\n",
              "      border: none;\n",
              "      border-radius: 50%;\n",
              "      cursor: pointer;\n",
              "      display: none;\n",
              "      fill: #1967D2;\n",
              "      height: 32px;\n",
              "      padding: 0 0 0 0;\n",
              "      width: 32px;\n",
              "    }\n",
              "\n",
              "    .colab-df-convert:hover {\n",
              "      background-color: #E2EBFA;\n",
              "      box-shadow: 0px 1px 2px rgba(60, 64, 67, 0.3), 0px 1px 3px 1px rgba(60, 64, 67, 0.15);\n",
              "      fill: #174EA6;\n",
              "    }\n",
              "\n",
              "    [theme=dark] .colab-df-convert {\n",
              "      background-color: #3B4455;\n",
              "      fill: #D2E3FC;\n",
              "    }\n",
              "\n",
              "    [theme=dark] .colab-df-convert:hover {\n",
              "      background-color: #434B5C;\n",
              "      box-shadow: 0px 1px 3px 1px rgba(0, 0, 0, 0.15);\n",
              "      filter: drop-shadow(0px 1px 2px rgba(0, 0, 0, 0.3));\n",
              "      fill: #FFFFFF;\n",
              "    }\n",
              "  </style>\n",
              "\n",
              "      <script>\n",
              "        const buttonEl =\n",
              "          document.querySelector('#df-c2b55680-d774-4858-a7e6-c4d3ff9d40f0 button.colab-df-convert');\n",
              "        buttonEl.style.display =\n",
              "          google.colab.kernel.accessAllowed ? 'block' : 'none';\n",
              "\n",
              "        async function convertToInteractive(key) {\n",
              "          const element = document.querySelector('#df-c2b55680-d774-4858-a7e6-c4d3ff9d40f0');\n",
              "          const dataTable =\n",
              "            await google.colab.kernel.invokeFunction('convertToInteractive',\n",
              "                                                     [key], {});\n",
              "          if (!dataTable) return;\n",
              "\n",
              "          const docLinkHtml = 'Like what you see? Visit the ' +\n",
              "            '<a target=\"_blank\" href=https://colab.research.google.com/notebooks/data_table.ipynb>data table notebook</a>'\n",
              "            + ' to learn more about interactive tables.';\n",
              "          element.innerHTML = '';\n",
              "          dataTable['output_type'] = 'display_data';\n",
              "          await google.colab.output.renderOutput(dataTable, element);\n",
              "          const docLink = document.createElement('div');\n",
              "          docLink.innerHTML = docLinkHtml;\n",
              "          element.appendChild(docLink);\n",
              "        }\n",
              "      </script>\n",
              "    </div>\n",
              "  </div>\n",
              "  "
            ]
          },
          "metadata": {},
          "execution_count": 57
        }
      ],
      "source": [
        "df.head()"
      ]
    },
    {
      "cell_type": "code",
      "execution_count": 58,
      "metadata": {
        "colab": {
          "base_uri": "https://localhost:8080/",
          "height": 300
        },
        "id": "TvkAD0FpTbuo",
        "outputId": "83d12640-cf40-424c-f6df-79f0d0c304fd"
      },
      "outputs": [
        {
          "output_type": "execute_result",
          "data": {
            "text/plain": [
              "                BTC          ETH          LTC\n",
              "count   2001.000000  2001.000000  2001.000000\n",
              "mean    9060.256122   407.263793   106.790100\n",
              "std     4404.269591   149.480416    89.142241\n",
              "min     4150.020000   277.810000    48.610000\n",
              "25%     5751.020000   301.510000    55.580000\n",
              "50%     7319.950000   330.800000    63.550000\n",
              "75%    11305.000000   464.390000   100.050000\n",
              "max    19847.110000   858.900000   378.660000"
            ],
            "text/html": [
              "\n",
              "  <div id=\"df-05b799ad-ddac-441b-a3a8-446d58d096b8\">\n",
              "    <div class=\"colab-df-container\">\n",
              "      <div>\n",
              "<style scoped>\n",
              "    .dataframe tbody tr th:only-of-type {\n",
              "        vertical-align: middle;\n",
              "    }\n",
              "\n",
              "    .dataframe tbody tr th {\n",
              "        vertical-align: top;\n",
              "    }\n",
              "\n",
              "    .dataframe thead th {\n",
              "        text-align: right;\n",
              "    }\n",
              "</style>\n",
              "<table border=\"1\" class=\"dataframe\">\n",
              "  <thead>\n",
              "    <tr style=\"text-align: right;\">\n",
              "      <th></th>\n",
              "      <th>BTC</th>\n",
              "      <th>ETH</th>\n",
              "      <th>LTC</th>\n",
              "    </tr>\n",
              "  </thead>\n",
              "  <tbody>\n",
              "    <tr>\n",
              "      <th>count</th>\n",
              "      <td>2001.000000</td>\n",
              "      <td>2001.000000</td>\n",
              "      <td>2001.000000</td>\n",
              "    </tr>\n",
              "    <tr>\n",
              "      <th>mean</th>\n",
              "      <td>9060.256122</td>\n",
              "      <td>407.263793</td>\n",
              "      <td>106.790100</td>\n",
              "    </tr>\n",
              "    <tr>\n",
              "      <th>std</th>\n",
              "      <td>4404.269591</td>\n",
              "      <td>149.480416</td>\n",
              "      <td>89.142241</td>\n",
              "    </tr>\n",
              "    <tr>\n",
              "      <th>min</th>\n",
              "      <td>4150.020000</td>\n",
              "      <td>277.810000</td>\n",
              "      <td>48.610000</td>\n",
              "    </tr>\n",
              "    <tr>\n",
              "      <th>25%</th>\n",
              "      <td>5751.020000</td>\n",
              "      <td>301.510000</td>\n",
              "      <td>55.580000</td>\n",
              "    </tr>\n",
              "    <tr>\n",
              "      <th>50%</th>\n",
              "      <td>7319.950000</td>\n",
              "      <td>330.800000</td>\n",
              "      <td>63.550000</td>\n",
              "    </tr>\n",
              "    <tr>\n",
              "      <th>75%</th>\n",
              "      <td>11305.000000</td>\n",
              "      <td>464.390000</td>\n",
              "      <td>100.050000</td>\n",
              "    </tr>\n",
              "    <tr>\n",
              "      <th>max</th>\n",
              "      <td>19847.110000</td>\n",
              "      <td>858.900000</td>\n",
              "      <td>378.660000</td>\n",
              "    </tr>\n",
              "  </tbody>\n",
              "</table>\n",
              "</div>\n",
              "      <button class=\"colab-df-convert\" onclick=\"convertToInteractive('df-05b799ad-ddac-441b-a3a8-446d58d096b8')\"\n",
              "              title=\"Convert this dataframe to an interactive table.\"\n",
              "              style=\"display:none;\">\n",
              "        \n",
              "  <svg xmlns=\"http://www.w3.org/2000/svg\" height=\"24px\"viewBox=\"0 0 24 24\"\n",
              "       width=\"24px\">\n",
              "    <path d=\"M0 0h24v24H0V0z\" fill=\"none\"/>\n",
              "    <path d=\"M18.56 5.44l.94 2.06.94-2.06 2.06-.94-2.06-.94-.94-2.06-.94 2.06-2.06.94zm-11 1L8.5 8.5l.94-2.06 2.06-.94-2.06-.94L8.5 2.5l-.94 2.06-2.06.94zm10 10l.94 2.06.94-2.06 2.06-.94-2.06-.94-.94-2.06-.94 2.06-2.06.94z\"/><path d=\"M17.41 7.96l-1.37-1.37c-.4-.4-.92-.59-1.43-.59-.52 0-1.04.2-1.43.59L10.3 9.45l-7.72 7.72c-.78.78-.78 2.05 0 2.83L4 21.41c.39.39.9.59 1.41.59.51 0 1.02-.2 1.41-.59l7.78-7.78 2.81-2.81c.8-.78.8-2.07 0-2.86zM5.41 20L4 18.59l7.72-7.72 1.47 1.35L5.41 20z\"/>\n",
              "  </svg>\n",
              "      </button>\n",
              "      \n",
              "  <style>\n",
              "    .colab-df-container {\n",
              "      display:flex;\n",
              "      flex-wrap:wrap;\n",
              "      gap: 12px;\n",
              "    }\n",
              "\n",
              "    .colab-df-convert {\n",
              "      background-color: #E8F0FE;\n",
              "      border: none;\n",
              "      border-radius: 50%;\n",
              "      cursor: pointer;\n",
              "      display: none;\n",
              "      fill: #1967D2;\n",
              "      height: 32px;\n",
              "      padding: 0 0 0 0;\n",
              "      width: 32px;\n",
              "    }\n",
              "\n",
              "    .colab-df-convert:hover {\n",
              "      background-color: #E2EBFA;\n",
              "      box-shadow: 0px 1px 2px rgba(60, 64, 67, 0.3), 0px 1px 3px 1px rgba(60, 64, 67, 0.15);\n",
              "      fill: #174EA6;\n",
              "    }\n",
              "\n",
              "    [theme=dark] .colab-df-convert {\n",
              "      background-color: #3B4455;\n",
              "      fill: #D2E3FC;\n",
              "    }\n",
              "\n",
              "    [theme=dark] .colab-df-convert:hover {\n",
              "      background-color: #434B5C;\n",
              "      box-shadow: 0px 1px 3px 1px rgba(0, 0, 0, 0.15);\n",
              "      filter: drop-shadow(0px 1px 2px rgba(0, 0, 0, 0.3));\n",
              "      fill: #FFFFFF;\n",
              "    }\n",
              "  </style>\n",
              "\n",
              "      <script>\n",
              "        const buttonEl =\n",
              "          document.querySelector('#df-05b799ad-ddac-441b-a3a8-446d58d096b8 button.colab-df-convert');\n",
              "        buttonEl.style.display =\n",
              "          google.colab.kernel.accessAllowed ? 'block' : 'none';\n",
              "\n",
              "        async function convertToInteractive(key) {\n",
              "          const element = document.querySelector('#df-05b799ad-ddac-441b-a3a8-446d58d096b8');\n",
              "          const dataTable =\n",
              "            await google.colab.kernel.invokeFunction('convertToInteractive',\n",
              "                                                     [key], {});\n",
              "          if (!dataTable) return;\n",
              "\n",
              "          const docLinkHtml = 'Like what you see? Visit the ' +\n",
              "            '<a target=\"_blank\" href=https://colab.research.google.com/notebooks/data_table.ipynb>data table notebook</a>'\n",
              "            + ' to learn more about interactive tables.';\n",
              "          element.innerHTML = '';\n",
              "          dataTable['output_type'] = 'display_data';\n",
              "          await google.colab.output.renderOutput(dataTable, element);\n",
              "          const docLink = document.createElement('div');\n",
              "          docLink.innerHTML = docLinkHtml;\n",
              "          element.appendChild(docLink);\n",
              "        }\n",
              "      </script>\n",
              "    </div>\n",
              "  </div>\n",
              "  "
            ]
          },
          "metadata": {},
          "execution_count": 58
        }
      ],
      "source": [
        "df.describe()"
      ]
    },
    {
      "cell_type": "markdown",
      "metadata": {
        "id": "Wd6q6t5ETbup"
      },
      "source": [
        "## Why Log Returns?\n",
        "\n",
        "Benefit of using returns, versus prices, is normalization: measuring all variables in a comparable metric, thus enabling evaluation of analytic relationships amongst two or more variables despite originating from price series of unequal values (for details, see [Why Log Returns](https://quantivity.wordpress.com/2011/02/21/why-log-returns/)).\n",
        "\n",
        "\n",
        "Let's define return as:\n",
        "\n",
        "$$\n",
        "r_{i} = \\frac{p_i - p_j}{p_j},\n",
        "$$\n",
        "where $r_i$ is return at time $i$, $p_i$ is the price at time $i$ and $j = i-1$.\n"
      ]
    },
    {
      "cell_type": "markdown",
      "metadata": {
        "id": "YXDDn9gkTbup"
      },
      "source": [
        "### Calculate Log Returns\n",
        "\n",
        "Author of [Why Log Returns](https://quantivity.wordpress.com/2011/02/21/why-log-returns/)\n",
        "outlines several benefits of using log returns instead of returns so we transform **returns** equation to **log returns** equation:\n",
        "\n",
        "$$\n",
        "r_{i} = \\frac{p_i - p_j}{p_j}\n",
        "$$\n",
        "\n",
        "$$\n",
        "r_i = \\frac{p_i}{p_j} - \\frac{p_j}{p_j}\n",
        "$$\n",
        "\n",
        "$$\n",
        "1 + r_i = \\frac{p_i}{p_j}\n",
        "$$\n",
        "\n",
        "\n",
        "$$\n",
        "log(1+r_i) = log(\\frac{p_i}{p_j})\n",
        "$$\n",
        "\n",
        "$$\n",
        "log(1+r_i) = log(p_i) - log(p_j)\n",
        "$$\n",
        "\n",
        "Now, we apply the log returns equation to closing prices of cryptocurrencies:"
      ]
    },
    {
      "cell_type": "code",
      "execution_count": 59,
      "metadata": {
        "id": "dZr4Vr45Tbup"
      },
      "outputs": [],
      "source": [
        "import numpy as np\n",
        "\n",
        "# shift moves dates back by 1\n",
        "df_change = df.apply(lambda x: np.log(x) - np.log(x.shift(1))) "
      ]
    },
    {
      "cell_type": "code",
      "execution_count": 60,
      "metadata": {
        "scrolled": true,
        "colab": {
          "base_uri": "https://localhost:8080/",
          "height": 237
        },
        "id": "NlS4K4K7Tbup",
        "outputId": "05539a85-7b68-4dea-bb0a-3dcea6816cef"
      },
      "outputs": [
        {
          "output_type": "execute_result",
          "data": {
            "text/plain": [
              "                          BTC       ETH       LTC\n",
              "datetime                                         \n",
              "2017-10-02 08:00:00       NaN       NaN       NaN\n",
              "2017-10-02 09:00:00  0.003509  0.001558  0.001278\n",
              "2017-10-02 10:00:00 -0.000641  0.000364 -0.002925\n",
              "2017-10-02 11:00:00 -0.014021 -0.006412 -0.011414\n",
              "2017-10-02 12:00:00 -0.003760 -0.008401 -0.005570"
            ],
            "text/html": [
              "\n",
              "  <div id=\"df-f8d1990c-f3bc-487f-8761-f12a09152923\">\n",
              "    <div class=\"colab-df-container\">\n",
              "      <div>\n",
              "<style scoped>\n",
              "    .dataframe tbody tr th:only-of-type {\n",
              "        vertical-align: middle;\n",
              "    }\n",
              "\n",
              "    .dataframe tbody tr th {\n",
              "        vertical-align: top;\n",
              "    }\n",
              "\n",
              "    .dataframe thead th {\n",
              "        text-align: right;\n",
              "    }\n",
              "</style>\n",
              "<table border=\"1\" class=\"dataframe\">\n",
              "  <thead>\n",
              "    <tr style=\"text-align: right;\">\n",
              "      <th></th>\n",
              "      <th>BTC</th>\n",
              "      <th>ETH</th>\n",
              "      <th>LTC</th>\n",
              "    </tr>\n",
              "    <tr>\n",
              "      <th>datetime</th>\n",
              "      <th></th>\n",
              "      <th></th>\n",
              "      <th></th>\n",
              "    </tr>\n",
              "  </thead>\n",
              "  <tbody>\n",
              "    <tr>\n",
              "      <th>2017-10-02 08:00:00</th>\n",
              "      <td>NaN</td>\n",
              "      <td>NaN</td>\n",
              "      <td>NaN</td>\n",
              "    </tr>\n",
              "    <tr>\n",
              "      <th>2017-10-02 09:00:00</th>\n",
              "      <td>0.003509</td>\n",
              "      <td>0.001558</td>\n",
              "      <td>0.001278</td>\n",
              "    </tr>\n",
              "    <tr>\n",
              "      <th>2017-10-02 10:00:00</th>\n",
              "      <td>-0.000641</td>\n",
              "      <td>0.000364</td>\n",
              "      <td>-0.002925</td>\n",
              "    </tr>\n",
              "    <tr>\n",
              "      <th>2017-10-02 11:00:00</th>\n",
              "      <td>-0.014021</td>\n",
              "      <td>-0.006412</td>\n",
              "      <td>-0.011414</td>\n",
              "    </tr>\n",
              "    <tr>\n",
              "      <th>2017-10-02 12:00:00</th>\n",
              "      <td>-0.003760</td>\n",
              "      <td>-0.008401</td>\n",
              "      <td>-0.005570</td>\n",
              "    </tr>\n",
              "  </tbody>\n",
              "</table>\n",
              "</div>\n",
              "      <button class=\"colab-df-convert\" onclick=\"convertToInteractive('df-f8d1990c-f3bc-487f-8761-f12a09152923')\"\n",
              "              title=\"Convert this dataframe to an interactive table.\"\n",
              "              style=\"display:none;\">\n",
              "        \n",
              "  <svg xmlns=\"http://www.w3.org/2000/svg\" height=\"24px\"viewBox=\"0 0 24 24\"\n",
              "       width=\"24px\">\n",
              "    <path d=\"M0 0h24v24H0V0z\" fill=\"none\"/>\n",
              "    <path d=\"M18.56 5.44l.94 2.06.94-2.06 2.06-.94-2.06-.94-.94-2.06-.94 2.06-2.06.94zm-11 1L8.5 8.5l.94-2.06 2.06-.94-2.06-.94L8.5 2.5l-.94 2.06-2.06.94zm10 10l.94 2.06.94-2.06 2.06-.94-2.06-.94-.94-2.06-.94 2.06-2.06.94z\"/><path d=\"M17.41 7.96l-1.37-1.37c-.4-.4-.92-.59-1.43-.59-.52 0-1.04.2-1.43.59L10.3 9.45l-7.72 7.72c-.78.78-.78 2.05 0 2.83L4 21.41c.39.39.9.59 1.41.59.51 0 1.02-.2 1.41-.59l7.78-7.78 2.81-2.81c.8-.78.8-2.07 0-2.86zM5.41 20L4 18.59l7.72-7.72 1.47 1.35L5.41 20z\"/>\n",
              "  </svg>\n",
              "      </button>\n",
              "      \n",
              "  <style>\n",
              "    .colab-df-container {\n",
              "      display:flex;\n",
              "      flex-wrap:wrap;\n",
              "      gap: 12px;\n",
              "    }\n",
              "\n",
              "    .colab-df-convert {\n",
              "      background-color: #E8F0FE;\n",
              "      border: none;\n",
              "      border-radius: 50%;\n",
              "      cursor: pointer;\n",
              "      display: none;\n",
              "      fill: #1967D2;\n",
              "      height: 32px;\n",
              "      padding: 0 0 0 0;\n",
              "      width: 32px;\n",
              "    }\n",
              "\n",
              "    .colab-df-convert:hover {\n",
              "      background-color: #E2EBFA;\n",
              "      box-shadow: 0px 1px 2px rgba(60, 64, 67, 0.3), 0px 1px 3px 1px rgba(60, 64, 67, 0.15);\n",
              "      fill: #174EA6;\n",
              "    }\n",
              "\n",
              "    [theme=dark] .colab-df-convert {\n",
              "      background-color: #3B4455;\n",
              "      fill: #D2E3FC;\n",
              "    }\n",
              "\n",
              "    [theme=dark] .colab-df-convert:hover {\n",
              "      background-color: #434B5C;\n",
              "      box-shadow: 0px 1px 3px 1px rgba(0, 0, 0, 0.15);\n",
              "      filter: drop-shadow(0px 1px 2px rgba(0, 0, 0, 0.3));\n",
              "      fill: #FFFFFF;\n",
              "    }\n",
              "  </style>\n",
              "\n",
              "      <script>\n",
              "        const buttonEl =\n",
              "          document.querySelector('#df-f8d1990c-f3bc-487f-8761-f12a09152923 button.colab-df-convert');\n",
              "        buttonEl.style.display =\n",
              "          google.colab.kernel.accessAllowed ? 'block' : 'none';\n",
              "\n",
              "        async function convertToInteractive(key) {\n",
              "          const element = document.querySelector('#df-f8d1990c-f3bc-487f-8761-f12a09152923');\n",
              "          const dataTable =\n",
              "            await google.colab.kernel.invokeFunction('convertToInteractive',\n",
              "                                                     [key], {});\n",
              "          if (!dataTable) return;\n",
              "\n",
              "          const docLinkHtml = 'Like what you see? Visit the ' +\n",
              "            '<a target=\"_blank\" href=https://colab.research.google.com/notebooks/data_table.ipynb>data table notebook</a>'\n",
              "            + ' to learn more about interactive tables.';\n",
              "          element.innerHTML = '';\n",
              "          dataTable['output_type'] = 'display_data';\n",
              "          await google.colab.output.renderOutput(dataTable, element);\n",
              "          const docLink = document.createElement('div');\n",
              "          docLink.innerHTML = docLinkHtml;\n",
              "          element.appendChild(docLink);\n",
              "        }\n",
              "      </script>\n",
              "    </div>\n",
              "  </div>\n",
              "  "
            ]
          },
          "metadata": {},
          "execution_count": 60
        }
      ],
      "source": [
        "df_change.head()"
      ]
    },
    {
      "cell_type": "markdown",
      "metadata": {
        "id": "7NAMRg9MTbup"
      },
      "source": [
        "### Visualize Log Returns\n",
        "\n",
        "We plot normalized changes of closing prices for last 50 hours. Log differences can be interpreted as the percentage change."
      ]
    },
    {
      "cell_type": "code",
      "execution_count": 61,
      "metadata": {
        "colab": {
          "base_uri": "https://localhost:8080/",
          "height": 646
        },
        "id": "m6XtbdX6Tbup",
        "outputId": "ad9d6286-fd5c-4724-bab9-15d60a10c889"
      },
      "outputs": [
        {
          "output_type": "execute_result",
          "data": {
            "text/plain": [
              "<matplotlib.lines.Line2D at 0x7fecd356eb90>"
            ]
          },
          "metadata": {},
          "execution_count": 61
        },
        {
          "output_type": "display_data",
          "data": {
            "text/plain": [
              "<Figure size 1080x720 with 1 Axes>"
            ],
            "image/png": "[encoded data removed]"
          },
          "metadata": {
            "needs_background": "light"
          }
        }
      ],
      "source": [
        "df_change[:50].plot(figsize=(15, 10)).axhline(color='black', linewidth=2)"
      ]
    },
    {
      "cell_type": "markdown",
      "metadata": {
        "id": "NFBV5AbJTbup"
      },
      "source": [
        "### Are LTC prices distributed log-normally?\n",
        "\n",
        "If we assume that prices are distributed log normally, \n",
        "then $log(1 + r_i)$ is conveniently normally distributed \n",
        "(for details, see [Why Log Returns](https://quantivity.wordpress.com/2011/02/21/why-log-returns/))\n",
        "\n",
        "On the chart below, we plot the distribution of LTC hourly closing prices.\n",
        "We also estimate parameters for log-normal distribution and plot estimated log-normal distribution with a red line."
      ]
    },
    {
      "cell_type": "code",
      "execution_count": 63,
      "metadata": {
        "colab": {
          "base_uri": "https://localhost:8080/",
          "height": 391
        },
        "id": "61fShbc0Tbup",
        "outputId": "c0a9ebca-ab6a-441f-f8e6-d5e64ec0057d"
      },
      "outputs": [
        {
          "output_type": "execute_result",
          "data": {
            "text/plain": [
              "<matplotlib.legend.Legend at 0x7fecd3214050>"
            ]
          },
          "metadata": {},
          "execution_count": 63
        },
        {
          "output_type": "display_data",
          "data": {
            "text/plain": [
              "<Figure size 720x432 with 1 Axes>"
            ],
            "image/png": "[encoded data removed]"
          },
          "metadata": {
            "needs_background": "light"
          }
        }
      ],
      "source": [
        "\n",
        "from scipy.stats import lognorm\n",
        "import matplotlib.pyplot as plt\n",
        "from scipy import stats\n",
        "\n",
        "fig, ax = plt.subplots(figsize=(10, 6))\n",
        "\n",
        "values = df['LTC']\n",
        "\n",
        "shape, loc, scale = stats.lognorm.fit(values) \n",
        "x = np.linspace(values.min(), values.max(), len(values))\n",
        "pdf = stats.lognorm.pdf(x, shape, loc=loc, scale=scale) \n",
        "label = 'mean=%.4f, std=%.4f, shape=%.4f' % (loc, scale, shape)\n",
        "\n",
        "ax.hist(values, bins=30, density=True)\n",
        "ax.plot(x, pdf, 'r-', lw=2, label=label)\n",
        "ax.legend(loc='best')"
      ]
    },
    {
      "cell_type": "markdown",
      "metadata": {
        "id": "TVLaXpSVTbuq"
      },
      "source": [
        "### Are LTC log returns normally distributed?\n",
        "\n",
        "On the chart below, we plot the distribution of LTC log returns.\n",
        "We also estimate parameters for normal distribution and plot estimated normal distribution with a red line."
      ]
    },
    {
      "cell_type": "code",
      "execution_count": 64,
      "metadata": {
        "colab": {
          "base_uri": "https://localhost:8080/",
          "height": 391
        },
        "id": "5s_NNmIsTbuq",
        "outputId": "bab4ab66-feed-49f1-fad2-0bae4efcefc0"
      },
      "outputs": [
        {
          "output_type": "execute_result",
          "data": {
            "text/plain": [
              "<matplotlib.legend.Legend at 0x7fecd30ebc10>"
            ]
          },
          "metadata": {},
          "execution_count": 64
        },
        {
          "output_type": "display_data",
          "data": {
            "text/plain": [
              "<Figure size 720x432 with 1 Axes>"
            ],
            "image/png": "[encoded data removed]"
          },
          "metadata": {
            "needs_background": "light"
          }
        }
      ],
      "source": [
        "import pandas as pd\n",
        "import numpy as np\n",
        "import scipy.stats as stats\n",
        "import matplotlib.pyplot as plt\n",
        "\n",
        "values = df_change['LTC'][1:]  # skip first NA value\n",
        "x = np.linspace(values.min(), values.max(), len(values))\n",
        "\n",
        "loc, scale = stats.norm.fit(values)\n",
        "param_density = stats.norm.pdf(x, loc=loc, scale=scale)\n",
        "label = 'mean=%.4f, std=%.4f' % (loc, scale)\n",
        "\n",
        "fig, ax = plt.subplots(figsize=(10, 6))\n",
        "ax.hist(values, bins=30, density=True)\n",
        "ax.plot(x, param_density, 'r-', label=label)\n",
        "ax.legend(loc='best')"
      ]
    },
    {
      "cell_type": "markdown",
      "metadata": {
        "id": "MTIsFJ5tTbuq"
      },
      "source": [
        "### Pearson Correlation with log returns\n",
        "\n",
        "We calculate Pearson Correlation from log returns.\n",
        "The correlation matrix below has similar values as the one at [Sifr Data](https://www.sifrdata.com/cryptocurrency-correlation-matrix/). \n",
        "There are differences because:\n",
        " - we don't calculate [volume-weighted average daily prices](https://www.investopedia.com/terms/v/vwap.asp)\n",
        " - different time period (hourly and daily),\n",
        " - different data source (Coinbase and Poloniex).\n",
        " \n",
        "**Observations**\n",
        "- BTC and ETH have moderate positive relationship,\n",
        "- LTC and ETH have strong positive relationship."
      ]
    },
    {
      "cell_type": "code",
      "execution_count": 65,
      "metadata": {
        "colab": {
          "base_uri": "https://localhost:8080/",
          "height": 664
        },
        "id": "haygCJUUTbuq",
        "outputId": "516eacd9-5088-4bd3-e4ce-72b853864959"
      },
      "outputs": [
        {
          "output_type": "stream",
          "name": "stderr",
          "text": [
            "/usr/local/lib/python3.7/dist-packages/ipykernel_launcher.py:8: DeprecationWarning: `np.bool` is a deprecated alias for the builtin `bool`. To silence this warning, use `bool` by itself. Doing this will not modify any behavior and is safe. If you specifically wanted the numpy scalar type, use `np.bool_` here.\n",
            "Deprecated in NumPy 1.20; for more details and guidance: https://numpy.org/devdocs/release/1.20.0-notes.html#deprecations\n",
            "  \n"
          ]
        },
        {
          "output_type": "execute_result",
          "data": {
            "text/plain": [
              "<matplotlib.axes._subplots.AxesSubplot at 0x7fecd30a0f10>"
            ]
          },
          "metadata": {},
          "execution_count": 65
        },
        {
          "output_type": "display_data",
          "data": {
            "text/plain": [
              "<Figure size 720x720 with 2 Axes>"
            ],
            "image/png": "[encoded data removed]"
          },
          "metadata": {
            "needs_background": "light"
          }
        }
      ],
      "source": [
        "import seaborn as sns\n",
        "import matplotlib.pyplot as plt\n",
        "\n",
        "# Compute the correlation matrix\n",
        "corr = df_change.corr()\n",
        "\n",
        "# Generate a mask for the upper triangle\n",
        "mask = np.zeros_like(corr, dtype=np.bool)\n",
        "mask[np.triu_indices_from(mask)] = True\n",
        "\n",
        "# Set up the matplotlib figure\n",
        "f, ax = plt.subplots(figsize=(10, 10))\n",
        "\n",
        "# Draw the heatmap with the mask and correct aspect ratio\n",
        "sns.heatmap(corr, annot=True, fmt = '.4f', mask=mask, center=0, square=True, linewidths=.5)"
      ]
    },
    {
      "cell_type": "markdown",
      "metadata": {
        "id": "2274F-OtTbuq"
      },
      "source": [
        "## Conclusion\n",
        "\n",
        "We showed how to calculate log returns from raw prices with a practical example. \n",
        "This way we normalized prices, which simplifies further analysis. \n",
        "We also showed how to estimate parameters for normal and log-normal distributions."
      ]
    }
  ],
  "metadata": {
    "kernelspec": {
      "display_name": "Python 3",
      "language": "python",
      "name": "python3"
    },
    "language_info": {
      "codemirror_mode": {
        "name": "ipython",
        "version": 3
      },
      "file_extension": ".py",
      "mimetype": "text/x-python",
      "name": "python",
      "nbconvert_exporter": "python",
      "pygments_lexer": "ipython3",
      "version": "3.5.2"
    },
    "colab": {
      "name": "final_crypto_analysis.ipynb",
      "provenance": []
    }
  },
  "nbformat": 4,
  "nbformat_minor": 0
}